{
 "cells": [
  {
   "cell_type": "markdown",
   "metadata": {},
   "source": [
    "# *Python*\n",
    "\n",
    "    > Python is a simple,general purpose,high level & object-oriented programming language.\n",
    "    \n",
    "    > In Python it is not required to tell the data type when a variable is declared.Python intepreter does it itself."
   ]
  },
  {
   "cell_type": "code",
   "execution_count": 1,
   "metadata": {},
   "outputs": [
    {
     "name": "stdout",
     "output_type": "stream",
     "text": [
      "<class 'int'>\n",
      "<class 'str'>\n"
     ]
    },
    {
     "data": {
      "text/plain": [
       "str"
      ]
     },
     "execution_count": 1,
     "metadata": {},
     "output_type": "execute_result"
    }
   ],
   "source": [
    "x=5 #assigning an integer\n",
    "y=4.2 #assigning a floating value\n",
    "z=\"test\" #assigning a string\n",
    "\n",
    "print( type(x) ) #test type of x and print\n",
    "print( type(z) )\n",
    "type(z)"
   ]
  },
  {
   "cell_type": "markdown",
   "metadata": {},
   "source": [
    "### Multiple Assignment"
   ]
  },
  {
   "cell_type": "code",
   "execution_count": 10,
   "metadata": {},
   "outputs": [
    {
     "name": "stdout",
     "output_type": "stream",
     "text": [
      "12\n",
      "12\n"
     ]
    }
   ],
   "source": [
    "x=y=z=12\n",
    "print(x)\n",
    "print(y)"
   ]
  },
  {
   "cell_type": "code",
   "execution_count": 11,
   "metadata": {},
   "outputs": [
    {
     "name": "stdout",
     "output_type": "stream",
     "text": [
      "2\n",
      "dinal\n"
     ]
    }
   ],
   "source": [
    "x,y,z=2,5.6,'dinal'\n",
    "print(x)\n",
    "print(z) #the values will be assigned in the order in which variables appear"
   ]
  },
  {
   "cell_type": "markdown",
   "metadata": {},
   "source": [
    "## Types of prints"
   ]
  },
  {
   "cell_type": "code",
   "execution_count": 13,
   "metadata": {},
   "outputs": [
    {
     "name": "stdout",
     "output_type": "stream",
     "text": [
      "1\n",
      "2.3\n",
      "1 2.3 tom\n",
      "x= 1\n",
      "x=1\n",
      "x=tom\n",
      "x=1 y=2.300000 z=tom\n"
     ]
    }
   ],
   "source": [
    "x=1\n",
    "y=2.3\n",
    "z=\"tom\"\n",
    "\n",
    "print(x)#print one by one with a new line\n",
    "print(y)\n",
    "print(x,y,z)#print in the same line with a space\n",
    "print(\"x=\",x)#multiple data prints autoseparetd with a space.No type casting required\n",
    "print(\"x=\"+str(x))#string concatanation .all should be strings.if not then cast\n",
    "print(\"x=\"+ z)#no casting is required,cz z is a string\n",
    "print(\"x=%d y=%f z=%s\"%(x,y,z))#acces variables and replace in message"
   ]
  },
  {
   "cell_type": "markdown",
   "metadata": {},
   "source": [
    "### Example:"
   ]
  },
  {
   "cell_type": "code",
   "execution_count": 19,
   "metadata": {},
   "outputs": [
    {
     "name": "stdout",
     "output_type": "stream",
     "text": [
      "name:dinal\n",
      "age:19\n",
      "name=dinal,age=19,weight=45.60,address=102,Dandugama,Ja-ela\n"
     ]
    }
   ],
   "source": [
    "name=\"dinal\"\n",
    "age=19\n",
    "weight=45.6\n",
    "address=\"102,Dandugama,Ja-ela\"\n",
    "\n",
    "print(\"name:\"+name)\n",
    "print(\"age:\"+str(age))\n",
    "print(\"name=%s,age=%d,weight=%.2f,address=%s\"%(name,age,weight,address))\n"
   ]
  },
  {
   "cell_type": "markdown",
   "metadata": {},
   "source": [
    "## Input Taking"
   ]
  },
  {
   "cell_type": "code",
   "execution_count": 2,
   "metadata": {},
   "outputs": [
    {
     "name": "stdout",
     "output_type": "stream",
     "text": [
      "enter a name:udara\n",
      "enter a age:12\n",
      "enter a weight:23.4\n",
      "User details\n",
      "name:udara\n",
      "age:12\n",
      "weight:23.4\n"
     ]
    }
   ],
   "source": [
    "name=input(\"enter a name:\")#all inputs will be taken as strings\n",
    "age=int(input(\"enter a age:\"))# we casted to int ,since an age should be an int\n",
    "weight=float(input(\"enter a weight:\"))\n",
    "\n",
    "print(\"User details\")\n",
    "print(\"name:\"+name)\n",
    "print(\"age:\"+str(age))\n",
    "print(\"weight:\"+str(weight))\n",
    "\n"
   ]
  },
  {
   "cell_type": "markdown",
   "metadata": {},
   "source": [
    "##### Exercise 1:\n",
    "Build a programme to get vehicle registration data from a user and show him/her the entered data.get following data.\n",
    "1. vehicle type: (motor bike/car/van/etc..)\n",
    "2. manufactured year\n",
    "3. chassis number\n",
    "4. engine number\n",
    "5. max number of passengers\n",
    "6. regisration plate number"
   ]
  },
  {
   "cell_type": "code",
   "execution_count": 3,
   "metadata": {},
   "outputs": [
    {
     "name": "stdout",
     "output_type": "stream",
     "text": [
      "enter vehicle type:car\n",
      "enter vehicle manufactured year:2001\n",
      "enter vehicle weight:345.6\n",
      "type=car  manYear=2001  maxWeight=345.600000\n"
     ]
    }
   ],
   "source": [
    "typeV=input(\"enter vehicle type:\")\n",
    "manYear= int (input(\"enter vehicle manufactured year:\") )\n",
    "maxWeight= float (input(\"enter vehicle weight:\") )\n",
    "\n",
    "print(\"type=%s  manYear=%d  maxWeight=%f\"%(typeV,manYear,maxWeight)  )"
   ]
  },
  {
   "cell_type": "markdown",
   "metadata": {},
   "source": [
    "## Python Operators\n",
    "\n",
    "    A symbol that performs an operation on one or more operands.\n",
    "    \n",
    "        1. Arithmetic Operators\n",
    "        2. Assignment Operators\n",
    "        3. Relational Operators\n",
    "        4. Logical Operators\n",
    "        5. Bitwise Operators\n",
    "        6. Identity Operators\n",
    "        7. Membership Operators"
   ]
  },
  {
   "cell_type": "markdown",
   "metadata": {},
   "source": [
    "## 1. *Arithmetic  Operators*\n",
    "    \n",
    "    Takes two operands and perform a calculation on them."
   ]
  },
  {
   "cell_type": "code",
   "execution_count": 24,
   "metadata": {},
   "outputs": [
    {
     "name": "stdout",
     "output_type": "stream",
     "text": [
      "enter number 1:6\n",
      "enter number 2:5\n",
      "11\n",
      "1\n",
      "30\n",
      "1.2\n",
      "7776\n",
      "1\n",
      "1\n"
     ]
    }
   ],
   "source": [
    "x=int(input(\"enter number 1:\"))\n",
    "y=int(input(\"enter number 2:\"))\n",
    "\n",
    "print(x+y) #addition\n",
    "print(x-y) #subtraction\n",
    "print(x*y) #multiplication\n",
    "print(x/y) #division\n",
    "print(x**y)#power up\n",
    "print(x//y)#floor division(rounding off to the nearest least integer)\n",
    "print(x%y) #brings a remainder"
   ]
  },
  {
   "cell_type": "code",
   "execution_count": 6,
   "metadata": {},
   "outputs": [
    {
     "name": "stdout",
     "output_type": "stream",
     "text": [
      "1\n",
      "-2\n",
      "2\n"
     ]
    }
   ],
   "source": [
    "print(4//3)\n",
    "print(-4//3)\n",
    "print( 5% 3)"
   ]
  },
  {
   "cell_type": "markdown",
   "metadata": {},
   "source": [
    "## 2. *Assignment Operators*\n",
    "\n",
    "    Assigned from right side to left side."
   ]
  },
  {
   "cell_type": "code",
   "execution_count": 7,
   "metadata": {},
   "outputs": [
    {
     "name": "stdout",
     "output_type": "stream",
     "text": [
      "4\n"
     ]
    }
   ],
   "source": [
    "x=4\n",
    "x+1\n",
    "print(x)"
   ]
  },
  {
   "cell_type": "code",
   "execution_count": 8,
   "metadata": {},
   "outputs": [
    {
     "name": "stdout",
     "output_type": "stream",
     "text": [
      "7\n"
     ]
    }
   ],
   "source": [
    "x=x+3 #x??? x=7\n",
    "x-5\n",
    "print(x)"
   ]
  },
  {
   "cell_type": "code",
   "execution_count": 30,
   "metadata": {},
   "outputs": [
    {
     "data": {
      "text/plain": [
       "2.0"
      ]
     },
     "execution_count": 30,
     "metadata": {},
     "output_type": "execute_result"
    }
   ],
   "source": [
    "x=2\n",
    "x=x**3\n",
    "x/4"
   ]
  },
  {
   "cell_type": "code",
   "execution_count": 31,
   "metadata": {},
   "outputs": [
    {
     "data": {
      "text/plain": [
       "40"
      ]
     },
     "execution_count": 31,
     "metadata": {},
     "output_type": "execute_result"
    }
   ],
   "source": [
    "x=3# assignment\n",
    "x+=2# x=x+2 #assignmnet to 5\n",
    "x*8 #(x+=2) acts like (x=x+2)"
   ]
  },
  {
   "cell_type": "code",
   "execution_count": 32,
   "metadata": {},
   "outputs": [
    {
     "data": {
      "text/plain": [
       "5.0"
      ]
     },
     "execution_count": 32,
     "metadata": {},
     "output_type": "execute_result"
    }
   ],
   "source": [
    "x=5\n",
    "x*=3\n",
    "x/3 #(x*=3) acts like (x=x*3)"
   ]
  },
  {
   "cell_type": "markdown",
   "metadata": {},
   "source": [
    "## 3.*Relational Operators*\n",
    "\n",
    "    >Check whether the given relationship is there.\n",
    "    \n",
    "    >Returns True or False accordingly.\n",
    "    \n",
    "    ~ x==12 # is x is equal to 12??\n",
    "    ~ x<13 # is x is less than 13??if YES so True should be returned\n",
    "    ~ x>15 #larger??\n",
    "    ~ x>=153 #larger or equal??\n",
    "    ~ x!=3 # is x is not equal to 3??\n"
   ]
  },
  {
   "cell_type": "code",
   "execution_count": 10,
   "metadata": {},
   "outputs": [
    {
     "name": "stdout",
     "output_type": "stream",
     "text": [
      "False\n",
      "True\n"
     ]
    }
   ],
   "source": [
    "x=7\n",
    "print ( x<5 )\n",
    "print ( x!= 9 )"
   ]
  },
  {
   "cell_type": "code",
   "execution_count": null,
   "metadata": {},
   "outputs": [],
   "source": [
    "#conditions--->as gate passes to the neighbour block\n",
    "\n",
    "(x<2){#in a language like c the condiion (x<2) lets the compiler to get in to the block if True\n",
    "\n",
    "}\n",
    "#-------------------\n",
    "(x<2): #python block\n",
    "    jump# the front indent is the most important\n",
    "    run\n",
    "    sleep\n",
    "#-------------------------------------\n",
    "run #out of the block.See the indent is removed\n",
    "sit\n",
    "#------------------\n",
    "(x>4):#decide whether to get in to the block or not??\n",
    "    run#one indent\n",
    "    sit\n",
    "    sleep\n",
    "    (x<20):#nested block \n",
    "        jump#indent is double,statement of child block\n",
    "        sit\n",
    "        sleep\n",
    "    sleep#statement of mother block\n",
    "jump#statement out of mother block"
   ]
  },
  {
   "cell_type": "markdown",
   "metadata": {},
   "source": [
    "## Decision Making\n",
    "\n",
    "    1. if\n",
    "    2. if-else\n",
    "    3. if-elif"
   ]
  },
  {
   "cell_type": "code",
   "execution_count": 37,
   "metadata": {},
   "outputs": [
    {
     "name": "stdout",
     "output_type": "stream",
     "text": [
      "x is over 10\n"
     ]
    }
   ],
   "source": [
    "#condition -->has 2 sides :True or False\n",
    "#if --->to take a decision on one side of a condition\n",
    "\n",
    "x=12\n",
    "if(x>10):#enters to the block if this is True.what if this False??nothing is done\n",
    "    print(\"x is over 10\")"
   ]
  },
  {
   "cell_type": "code",
   "execution_count": 38,
   "metadata": {},
   "outputs": [
    {
     "name": "stdout",
     "output_type": "stream",
     "text": [
      "x is under 10\n"
     ]
    }
   ],
   "source": [
    "#if-else--->to take decisions on both sides of a condition\n",
    "    \n",
    "x=7\n",
    "if(x>10):#enters to the block if this is True\n",
    "    print(\"x is over 10\")\n",
    "else:#enters if the condition is False\n",
    "    print(\"x is under 10\")"
   ]
  },
  {
   "cell_type": "code",
   "execution_count": 1,
   "metadata": {},
   "outputs": [
    {
     "name": "stdout",
     "output_type": "stream",
     "text": [
      "no match\n"
     ]
    }
   ],
   "source": [
    "#if-elif--->to take decisions on multiple conditions\n",
    "    \n",
    "x=7\n",
    "if(x==1):#enters to the block if this is True\n",
    "    print(\"x is one\")\n",
    "elif(x==2):#enters to the block if above is False but this is True\n",
    "    print(\"x is two\")\n",
    "elif(x==3):#enters to the block if above is False but this is True\n",
    "    print(\"x is three\")\n",
    "else:#enters if nothing above is correct (optional)\n",
    "    print(\"no match\")"
   ]
  },
  {
   "cell_type": "markdown",
   "metadata": {},
   "source": [
    "### Sample project-to check for even and odd numbers"
   ]
  },
  {
   "cell_type": "code",
   "execution_count": 41,
   "metadata": {},
   "outputs": [
    {
     "name": "stdout",
     "output_type": "stream",
     "text": [
      "eneter a number:5\n",
      "number is odd\n"
     ]
    }
   ],
   "source": [
    "number=int(input(\"eneter a number:\"))\n",
    "if ((number%2)==0):#checks the remainder deviding by 2\n",
    "    print(\"number is even\")\n",
    "else:\n",
    "    print(\"number is odd\")"
   ]
  },
  {
   "cell_type": "markdown",
   "metadata": {},
   "source": [
    "### Sample project-to find the max out of 2 numbers"
   ]
  },
  {
   "cell_type": "code",
   "execution_count": 43,
   "metadata": {},
   "outputs": [
    {
     "name": "stdout",
     "output_type": "stream",
     "text": [
      "eneter a number 1:9\n",
      "eneter a number 2:2\n",
      "max: 9\n"
     ]
    }
   ],
   "source": [
    "number1=int(input(\"eneter a number 1:\"))\n",
    "number2=int(input(\"eneter a number 2:\"))\n",
    "\n",
    "if(number1>number2):\n",
    "    print(\"max:\",number1)\n",
    "elif(number2>number1):#cant use else,cz 2 numbers can be same\n",
    "    print(\"max:\",number2)"
   ]
  },
  {
   "cell_type": "markdown",
   "metadata": {},
   "source": [
    "### 4 .logical operators: Sample project-to find the max out of 3 numbers"
   ]
  },
  {
   "cell_type": "code",
   "execution_count": 12,
   "metadata": {},
   "outputs": [
    {
     "name": "stdout",
     "output_type": "stream",
     "text": [
      "x is in bound\n",
      "x is in bound\n"
     ]
    }
   ],
   "source": [
    "x=7\n",
    "if((x>3) and (x<15) ):\n",
    "    print(\"x is in bound\")\n",
    "if(3<x<15 ):\n",
    "    print(\"x is in bound\")"
   ]
  },
  {
   "cell_type": "code",
   "execution_count": 45,
   "metadata": {},
   "outputs": [
    {
     "name": "stdout",
     "output_type": "stream",
     "text": [
      "eneter a number 1:4\n",
      "eneter a number 2:9\n",
      "eneter a number 3:2\n",
      "max: 9\n"
     ]
    }
   ],
   "source": [
    "number1=int(input(\"eneter a number 1:\"))\n",
    "number2=int(input(\"eneter a number 2:\"))\n",
    "number3=int(input(\"eneter a number 3:\"))\n",
    "#using logical operators\n",
    "##and -->AND gate\n",
    "##or-->OR gate\n",
    "##not -->NOT gate\n",
    "\n",
    "if((number1>number2)and (number1>number3)):#two sub condtions are ANDed\n",
    "    print(\"max:\",number1)\n",
    "elif((number2>number1)and (number2>number3)):#two sub condtions are ANDed\n",
    "    print(\"max:\",number2)\n",
    "else:\n",
    "    print(\"max:\",number3)"
   ]
  },
  {
   "cell_type": "markdown",
   "metadata": {},
   "source": [
    "##### Exercise 2:\n",
    "Improve the above programme to find the max out of three given numbers,BUT yiu can only use single 'if' conditions.Only 2 'if' can be used."
   ]
  },
  {
   "cell_type": "code",
   "execution_count": 13,
   "metadata": {},
   "outputs": [
    {
     "name": "stdout",
     "output_type": "stream",
     "text": [
      "eneter a number 1:-34\n",
      "eneter a number 2:456\n",
      "eneter a number 3:-23456\n",
      "max: 456\n"
     ]
    }
   ],
   "source": [
    "number1=int(input(\"eneter a number 1:\"))\n",
    "number2=int(input(\"eneter a number 2:\"))\n",
    "number3=int(input(\"eneter a number 3:\"))\n",
    "\n",
    "if(number1>number2):\n",
    "    number2=number1\n",
    "#max--> number2\n",
    "if(number2>number3):\n",
    "    number3=number2\n",
    "print(\"max:\",number3)"
   ]
  },
  {
   "cell_type": "markdown",
   "metadata": {},
   "source": [
    "## 5. *Bitwise Operators*\n",
    "\n",
    "    &  -and\n",
    "    |  -or\n",
    "    !  -not\n",
    "    >> -right shift\n",
    "    << -left shift\n",
    "    ~  -xor"
   ]
  },
  {
   "cell_type": "code",
   "execution_count": 6,
   "metadata": {},
   "outputs": [
    {
     "name": "stdout",
     "output_type": "stream",
     "text": [
      "a & b = 0\n",
      "a | b = 14\n",
      "~a = -11\n",
      "a ^ b = 14\n"
     ]
    }
   ],
   "source": [
    "a = 10#1010\n",
    "b = 4#0100\n",
    "    \n",
    "# Print bitwise AND operation    \n",
    "print(\"a & b =\", a & b)  \n",
    "    \n",
    "# Print bitwise OR operation  \n",
    "print(\"a | b =\", a | b)  \n",
    "    \n",
    "# Print bitwise NOT operation   \n",
    "print(\"~a =\", ~a)  \n",
    "    \n",
    "# print bitwise XOR operation   \n",
    "print(\"a ^ b =\", a ^ b)  "
   ]
  },
  {
   "cell_type": "code",
   "execution_count": 7,
   "metadata": {},
   "outputs": [],
   "source": [
    "#a = 5 = 0000 0101\n",
    "#b = -10 = 1111 0110\n",
    "\n",
    "#a << 1 = 0000 1010 = 10\n",
    "#a << 2 = 0001 0100 = 20 \n",
    "\n",
    "#b << 1 = 0000 1010 = -20\n",
    "#b << 2 = 0001 0100 = -40 "
   ]
  },
  {
   "cell_type": "code",
   "execution_count": 8,
   "metadata": {},
   "outputs": [
    {
     "name": "stdout",
     "output_type": "stream",
     "text": [
      "a >> 1 = 5\n",
      "b >> 1 = -5\n",
      "a << 1 = 10\n",
      "b << 1 = -20\n"
     ]
    }
   ],
   "source": [
    "# shift operators \n",
    "  \n",
    "a = 10\n",
    "b = -10\n",
    "  \n",
    "# print bitwise right shift operator \n",
    "print(\"a >> 1 =\", a >> 1) \n",
    "print(\"b >> 1 =\", b >> 1) \n",
    "  \n",
    "a = 5\n",
    "b = -10\n",
    "  \n",
    "# print bitwise left shift operator \n",
    "print(\"a << 1 =\", a << 1) \n",
    "print(\"b << 1 =\", b << 1)"
   ]
  },
  {
   "cell_type": "markdown",
   "metadata": {},
   "source": [
    "### 6. Identity Operators\n",
    "< is<br>\n",
    "< is not"
   ]
  },
  {
   "cell_type": "code",
   "execution_count": null,
   "metadata": {},
   "outputs": [],
   "source": [
    "x=2\n",
    "y=2.0\n",
    "print (x==y)# are x and y equal in value?\n",
    "print (x is y)# are x and y identical?"
   ]
  },
  {
   "cell_type": "markdown",
   "metadata": {},
   "source": [
    "# *Five types of data structures.*\n",
    "\n",
    "    1. Numbers\n",
    "    2. Strings\n",
    "    3. Lists\n",
    "    4. Tuples\n",
    "    5. Dictionaries\n"
   ]
  },
  {
   "cell_type": "markdown",
   "metadata": {},
   "source": [
    "# 1. Numbers\n",
    "\n",
    "    Real numbers & complex numbers both can be included."
   ]
  },
  {
   "cell_type": "code",
   "execution_count": 1,
   "metadata": {},
   "outputs": [
    {
     "data": {
      "text/plain": [
       "complex"
      ]
     },
     "execution_count": 1,
     "metadata": {},
     "output_type": "execute_result"
    }
   ],
   "source": [
    "z=(3+5j)\n",
    "x=3-2j\n",
    "type(x)"
   ]
  },
  {
   "cell_type": "code",
   "execution_count": 51,
   "metadata": {},
   "outputs": [
    {
     "data": {
      "text/plain": [
       "3.0"
      ]
     },
     "execution_count": 51,
     "metadata": {},
     "output_type": "execute_result"
    }
   ],
   "source": [
    "z.real #brings the real part of z"
   ]
  },
  {
   "cell_type": "code",
   "execution_count": 52,
   "metadata": {},
   "outputs": [
    {
     "data": {
      "text/plain": [
       "5.0"
      ]
     },
     "execution_count": 52,
     "metadata": {},
     "output_type": "execute_result"
    }
   ],
   "source": [
    "z.imag #brings the imaginary part of z"
   ]
  },
  {
   "cell_type": "code",
   "execution_count": 53,
   "metadata": {},
   "outputs": [
    {
     "data": {
      "text/plain": [
       "(2+6j)"
      ]
     },
     "execution_count": 53,
     "metadata": {},
     "output_type": "execute_result"
    }
   ],
   "source": [
    "p=complex(2,6) #real numbers can be converted to complex numbers\n",
    "p"
   ]
  },
  {
   "cell_type": "code",
   "execution_count": 54,
   "metadata": {},
   "outputs": [
    {
     "data": {
      "text/plain": [
       "(3+0j)"
      ]
     },
     "execution_count": 54,
     "metadata": {},
     "output_type": "execute_result"
    }
   ],
   "source": [
    "p=complex(3)\n",
    "p"
   ]
  },
  {
   "cell_type": "markdown",
   "metadata": {},
   "source": [
    "# 2. Strings\n",
    "\n",
    "    we can type strings by using ''or\"\"\n",
    "    we can make a paragraph by using''' ''' or \"\"\"  \"\"\""
   ]
  },
  {
   "cell_type": "code",
   "execution_count": 3,
   "metadata": {},
   "outputs": [
    {
     "name": "stdout",
     "output_type": "stream",
     "text": [
      "udara\n",
      "udara\n",
      "nfkrrt tr rettr ertr4et4 tr4tr4tr4tr4t.\n",
      "t44t 4t4t4r 4r43r43 r43r3 r3r3r 3r5.\n",
      "r43r43 r43r43 r3r3 r3r3 r3r3 r3r3r.3re3\n",
      "re3r3 r3r3 r3r3 r3r 3r\n"
     ]
    },
    {
     "data": {
      "text/plain": [
       "'nfkrrt tr rettr ertr4et4 tr4tr4tr4tr4t.\\nt44t 4t4t4r 4r43r43 r43r3 r3r3r 3r5.\\nr43r43 r43r43 r3r3 r3r3 r3r3 r3r3r.3re3\\nre3r3 r3r3 r3r3 r3r 3r'"
      ]
     },
     "execution_count": 3,
     "metadata": {},
     "output_type": "execute_result"
    }
   ],
   "source": [
    "x='udara'\n",
    "y=\"udara\"\n",
    "z='''nfkrrt tr rettr ertr4et4 tr4tr4tr4tr4t.\n",
    "t44t 4t4t4r 4r43r43 r43r3 r3r3r 3r5.\n",
    "r43r43 r43r43 r3r3 r3r3 r3r3 r3r3r.3re3\n",
    "re3r3 r3r3 r3r3 r3r 3r'''\n",
    "print(x)\n",
    "print(y)\n",
    "print(z)\n",
    "z"
   ]
  },
  {
   "cell_type": "markdown",
   "metadata": {},
   "source": [
    "### String Indexing Operators\n",
    "\n",
    "    1. Forward indexing"
   ]
  },
  {
   "cell_type": "code",
   "execution_count": 4,
   "metadata": {},
   "outputs": [
    {
     "data": {
      "text/plain": [
       "'k'"
      ]
     },
     "execution_count": 4,
     "metadata": {},
     "output_type": "execute_result"
    }
   ],
   "source": [
    "x=\"kingdom\"\n",
    "x[0] # forward indexing no of 1st letter is 0  "
   ]
  },
  {
   "cell_type": "code",
   "execution_count": 5,
   "metadata": {},
   "outputs": [
    {
     "data": {
      "text/plain": [
       "'i'"
      ]
     },
     "execution_count": 5,
     "metadata": {},
     "output_type": "execute_result"
    }
   ],
   "source": [
    "x[1]"
   ]
  },
  {
   "cell_type": "code",
   "execution_count": 6,
   "metadata": {},
   "outputs": [
    {
     "data": {
      "text/plain": [
       "'m'"
      ]
     },
     "execution_count": 6,
     "metadata": {},
     "output_type": "execute_result"
    }
   ],
   "source": [
    "x[6]"
   ]
  },
  {
   "cell_type": "markdown",
   "metadata": {},
   "source": [
    "### *Indexing Operators*\n",
    "\n",
    "     2. Backward indexing"
   ]
  },
  {
   "cell_type": "code",
   "execution_count": 7,
   "metadata": {},
   "outputs": [
    {
     "data": {
      "text/plain": [
       "'m'"
      ]
     },
     "execution_count": 7,
     "metadata": {},
     "output_type": "execute_result"
    }
   ],
   "source": [
    "x[-1] #backward indexing no of last letter is -1"
   ]
  },
  {
   "cell_type": "code",
   "execution_count": 8,
   "metadata": {},
   "outputs": [
    {
     "data": {
      "text/plain": [
       "'o'"
      ]
     },
     "execution_count": 8,
     "metadata": {},
     "output_type": "execute_result"
    }
   ],
   "source": [
    "x[-2]"
   ]
  },
  {
   "cell_type": "markdown",
   "metadata": {},
   "source": [
    "### *Slicing Operators*\n",
    "    we can separate needed indexing.A substring will be returned"
   ]
  },
  {
   "cell_type": "code",
   "execution_count": 64,
   "metadata": {},
   "outputs": [
    {
     "data": {
      "text/plain": [
       "'king'"
      ]
     },
     "execution_count": 64,
     "metadata": {},
     "output_type": "execute_result"
    }
   ],
   "source": [
    "x=\"kingdom\"\n",
    "x[0:4]"
   ]
  },
  {
   "cell_type": "code",
   "execution_count": null,
   "metadata": {},
   "outputs": [],
   "source": [
    "ttttyhynhyhynynttnnthtn"
   ]
  },
  {
   "cell_type": "code",
   "execution_count": 65,
   "metadata": {},
   "outputs": [
    {
     "data": {
      "text/plain": [
       "'kin'"
      ]
     },
     "execution_count": 65,
     "metadata": {},
     "output_type": "execute_result"
    }
   ],
   "source": [
    "x[ :3]"
   ]
  },
  {
   "cell_type": "code",
   "execution_count": 9,
   "metadata": {},
   "outputs": [
    {
     "data": {
      "text/plain": [
       "'gdom'"
      ]
     },
     "execution_count": 9,
     "metadata": {},
     "output_type": "execute_result"
    }
   ],
   "source": [
    "x[ 3: ]"
   ]
  },
  {
   "cell_type": "code",
   "execution_count": 67,
   "metadata": {},
   "outputs": [
    {
     "data": {
      "text/plain": [
       "'kndm'"
      ]
     },
     "execution_count": 67,
     "metadata": {},
     "output_type": "execute_result"
    }
   ],
   "source": [
    "x[ ::2] #when we add two colons it changes the step size.\n",
    "        #step size=2"
   ]
  },
  {
   "cell_type": "markdown",
   "metadata": {},
   "source": [
    "## String built in operators"
   ]
  },
  {
   "cell_type": "code",
   "execution_count": 69,
   "metadata": {},
   "outputs": [
    {
     "data": {
      "text/plain": [
       "'tomjerry'"
      ]
     },
     "execution_count": 69,
     "metadata": {},
     "output_type": "execute_result"
    }
   ],
   "source": [
    "x=\"tom\"\n",
    "p=x+\"jerry\" #string concatanation by using +\n",
    "p"
   ]
  },
  {
   "cell_type": "code",
   "execution_count": 70,
   "metadata": {},
   "outputs": [
    {
     "data": {
      "text/plain": [
       "'tomtom'"
      ]
     },
     "execution_count": 70,
     "metadata": {},
     "output_type": "execute_result"
    }
   ],
   "source": [
    "p=x*2 #multipile the string by using *\n",
    "p"
   ]
  },
  {
   "cell_type": "markdown",
   "metadata": {},
   "source": [
    "## Python built in functions for strings"
   ]
  },
  {
   "cell_type": "markdown",
   "metadata": {},
   "source": [
    "### 1. len\n",
    "\n",
    "    count the items in the functions."
   ]
  },
  {
   "cell_type": "code",
   "execution_count": 73,
   "metadata": {},
   "outputs": [
    {
     "data": {
      "text/plain": [
       "7"
      ]
     },
     "execution_count": 73,
     "metadata": {},
     "output_type": "execute_result"
    }
   ],
   "source": [
    "x=\"kingdom\"\n",
    "len(x) "
   ]
  },
  {
   "cell_type": "markdown",
   "metadata": {},
   "source": [
    "### 2. del\n",
    "     delete the objects in heap.\n",
    "     \n",
    "### RAM\n",
    "    memory allocations is done in two aspects\n",
    "    1. stack\n",
    "        >is used for static memory allocation\n",
    "    2. heap\n",
    "        >is used for dynamic memory allocationloop variable"
   ]
  },
  {
   "cell_type": "code",
   "execution_count": 75,
   "metadata": {},
   "outputs": [
    {
     "ename": "NameError",
     "evalue": "name 'x' is not defined",
     "output_type": "error",
     "traceback": [
      "\u001b[1;31m---------------------------------------------------------------------------\u001b[0m",
      "\u001b[1;31mNameError\u001b[0m                                 Traceback (most recent call last)",
      "\u001b[1;32m<ipython-input-75-40a0decc2cc2>\u001b[0m in \u001b[0;36m<module>\u001b[1;34m\u001b[0m\n\u001b[0;32m      1\u001b[0m \u001b[1;32mdel\u001b[0m\u001b[1;33m(\u001b[0m\u001b[0mx\u001b[0m\u001b[1;33m)\u001b[0m\u001b[1;33m\u001b[0m\u001b[1;33m\u001b[0m\u001b[0m\n\u001b[1;32m----> 2\u001b[1;33m \u001b[0mx\u001b[0m\u001b[1;33m\u001b[0m\u001b[1;33m\u001b[0m\u001b[0m\n\u001b[0m",
      "\u001b[1;31mNameError\u001b[0m: name 'x' is not defined"
     ]
    }
   ],
   "source": [
    "del(x)\n",
    "x #check whether the x is deleted."
   ]
  },
  {
   "cell_type": "markdown",
   "metadata": {},
   "source": [
    "#### Mutable and Immutable Objects\n",
    "Mutable ->item assignemnt(updating) can be done<br>\n",
    "Immutable -> item assignment can not be done<br>\n"
   ]
  },
  {
   "cell_type": "markdown",
   "metadata": {},
   "source": [
    "##### Exercise 3:\n",
    "check whether the Strings are Mutable or Immutable."
   ]
  },
  {
   "cell_type": "code",
   "execution_count": 12,
   "metadata": {},
   "outputs": [
    {
     "data": {
      "text/plain": [
       "'523'"
      ]
     },
     "execution_count": 12,
     "metadata": {},
     "output_type": "execute_result"
    }
   ],
   "source": [
    "x=\"123\"\n",
    "#x[0]=5\n",
    "#del(x[0])\n",
    "x='523'\n",
    "x"
   ]
  },
  {
   "cell_type": "markdown",
   "metadata": {},
   "source": [
    "## String built in functions\n",
    "\n",
    "All string functions returns new values. They do not change the original string."
   ]
  },
  {
   "cell_type": "code",
   "execution_count": 15,
   "metadata": {},
   "outputs": [
    {
     "data": {
      "text/plain": [
       "'Colombo'"
      ]
     },
     "execution_count": 15,
     "metadata": {},
     "output_type": "execute_result"
    }
   ],
   "source": [
    "name=\"colombo\"\n",
    "name=name.capitalize() #capitalize the 1st letter\n",
    "name"
   ]
  },
  {
   "cell_type": "code",
   "execution_count": 78,
   "metadata": {},
   "outputs": [
    {
     "data": {
      "text/plain": [
       "3"
      ]
     },
     "execution_count": 78,
     "metadata": {},
     "output_type": "execute_result"
    }
   ],
   "source": [
    "name.count(\"o\") #count the charactor we want"
   ]
  },
  {
   "cell_type": "code",
   "execution_count": 79,
   "metadata": {},
   "outputs": [
    {
     "data": {
      "text/plain": [
       "4"
      ]
     },
     "execution_count": 79,
     "metadata": {},
     "output_type": "execute_result"
    }
   ],
   "source": [
    "name.index(\"m\") #check the index"
   ]
  },
  {
   "cell_type": "code",
   "execution_count": 80,
   "metadata": {},
   "outputs": [
    {
     "data": {
      "text/plain": [
       "True"
      ]
     },
     "execution_count": 80,
     "metadata": {},
     "output_type": "execute_result"
    }
   ],
   "source": [
    "name.isalpha() #Returns True if all characters in the string are in the alphabet"
   ]
  },
  {
   "cell_type": "code",
   "execution_count": 81,
   "metadata": {},
   "outputs": [
    {
     "data": {
      "text/plain": [
       "False"
      ]
     },
     "execution_count": 81,
     "metadata": {},
     "output_type": "execute_result"
    }
   ],
   "source": [
    "name.isnumeric() \n",
    "name.isdigit() #check whether all items are numbers"
   ]
  },
  {
   "cell_type": "code",
   "execution_count": 82,
   "metadata": {},
   "outputs": [
    {
     "data": {
      "text/plain": [
       "True"
      ]
     },
     "execution_count": 82,
     "metadata": {},
     "output_type": "execute_result"
    }
   ],
   "source": [
    "name.isalnum()#check whether items are letters or numbers"
   ]
  },
  {
   "cell_type": "code",
   "execution_count": 83,
   "metadata": {},
   "outputs": [
    {
     "data": {
      "text/plain": [
       "False"
      ]
     },
     "execution_count": 83,
     "metadata": {},
     "output_type": "execute_result"
    }
   ],
   "source": [
    "name.isupper()#check whether all are capitals"
   ]
  },
  {
   "cell_type": "code",
   "execution_count": 84,
   "metadata": {},
   "outputs": [
    {
     "data": {
      "text/plain": [
       "'COLOMBO'"
      ]
     },
     "execution_count": 84,
     "metadata": {},
     "output_type": "execute_result"
    }
   ],
   "source": [
    "name.upper()# return a copy of string converted to uppercase"
   ]
  },
  {
   "cell_type": "code",
   "execution_count": 85,
   "metadata": {},
   "outputs": [
    {
     "data": {
      "text/plain": [
       "True"
      ]
     },
     "execution_count": 85,
     "metadata": {},
     "output_type": "execute_result"
    }
   ],
   "source": [
    "name.startswith(\"c\")#check the 1st letter"
   ]
  },
  {
   "cell_type": "markdown",
   "metadata": {},
   "source": [
    "**other string functions will be explained in weekly tutorials**"
   ]
  },
  {
   "cell_type": "markdown",
   "metadata": {},
   "source": [
    "# 3. Lists\n",
    "    \n",
    "    strings,complex numbers & real numbers can be included in one place.\n",
    "    \n",
    "    use [] to represent a list.\n",
    "    \n",
    "    muttable.\n",
    "   "
   ]
  },
  {
   "cell_type": "code",
   "execution_count": 16,
   "metadata": {},
   "outputs": [
    {
     "data": {
      "text/plain": [
       "[1.2, 'tom', 3, (2+5j), 3.4]"
      ]
     },
     "execution_count": 16,
     "metadata": {},
     "output_type": "execute_result"
    }
   ],
   "source": [
    "list1=[1.2,'tom',3,(2+5j),3.4]\n",
    "list1"
   ]
  },
  {
   "cell_type": "code",
   "execution_count": 88,
   "metadata": {},
   "outputs": [
    {
     "data": {
      "text/plain": [
       "1.2"
      ]
     },
     "execution_count": 88,
     "metadata": {},
     "output_type": "execute_result"
    }
   ],
   "source": [
    "list1[0]#we can use indexing operators"
   ]
  },
  {
   "cell_type": "code",
   "execution_count": 89,
   "metadata": {},
   "outputs": [
    {
     "data": {
      "text/plain": [
       "[1.2, 'tom', 3]"
      ]
     },
     "execution_count": 89,
     "metadata": {},
     "output_type": "execute_result"
    }
   ],
   "source": [
    "list1[ :3]#we can use slicing operators"
   ]
  },
  {
   "cell_type": "code",
   "execution_count": 19,
   "metadata": {},
   "outputs": [
    {
     "data": {
      "text/plain": [
       "['nimal', 3.4]"
      ]
     },
     "execution_count": 19,
     "metadata": {},
     "output_type": "execute_result"
    }
   ],
   "source": [
    "del(list1[0])#can be done item deletion(muttable)\n",
    "list1\n",
    "list1[0]='nimal'\n",
    "list1"
   ]
  },
  {
   "cell_type": "markdown",
   "metadata": {},
   "source": [
    "## List built in Functions"
   ]
  },
  {
   "cell_type": "code",
   "execution_count": 20,
   "metadata": {},
   "outputs": [
    {
     "data": {
      "text/plain": [
       "['nimal', 3.4, 'jerry']"
      ]
     },
     "execution_count": 20,
     "metadata": {},
     "output_type": "execute_result"
    }
   ],
   "source": [
    "list1.append(\"jerry\")#add one item to the end\n",
    "list1"
   ]
  },
  {
   "cell_type": "code",
   "execution_count": 31,
   "metadata": {},
   "outputs": [
    {
     "data": {
      "text/plain": [
       "12"
      ]
     },
     "execution_count": 31,
     "metadata": {},
     "output_type": "execute_result"
    }
   ],
   "source": [
    "list2=list1.copy()#get a shallow copy of list\n",
    "list3=list2\n",
    "list2[0]=12\n",
    "list1\n",
    "\n",
    "x=12\n",
    "\n",
    "i=x\n",
    "i=13\n",
    "x"
   ]
  },
  {
   "cell_type": "code",
   "execution_count": 32,
   "metadata": {},
   "outputs": [
    {
     "data": {
      "text/plain": [
       "[]"
      ]
     },
     "execution_count": 32,
     "metadata": {},
     "output_type": "execute_result"
    }
   ],
   "source": [
    "list1.clear()#clear the objects in the list\n",
    "list1"
   ]
  },
  {
   "cell_type": "code",
   "execution_count": 35,
   "metadata": {},
   "outputs": [
    {
     "data": {
      "text/plain": [
       "1"
      ]
     },
     "execution_count": 35,
     "metadata": {},
     "output_type": "execute_result"
    }
   ],
   "source": [
    "list2\n",
    "list2.count(\"jerry\")#count the item we want"
   ]
  },
  {
   "cell_type": "code",
   "execution_count": 39,
   "metadata": {},
   "outputs": [
    {
     "data": {
      "text/plain": [
       "[12, 4.3, 'peter', 4.3, 5.8, 'peter', 'peter', 'jerry']"
      ]
     },
     "execution_count": 39,
     "metadata": {},
     "output_type": "execute_result"
    }
   ],
   "source": [
    "list2.insert(2,\"peter\")#object is come to the index\n",
    "#list2\n",
    "list2.insert(list2.index(3.4),4.3)\n",
    "list2[list2.index(3.4)]=5.8\n",
    "list2"
   ]
  },
  {
   "cell_type": "code",
   "execution_count": 41,
   "metadata": {},
   "outputs": [
    {
     "data": {
      "text/plain": [
       "'jerry'"
      ]
     },
     "execution_count": 41,
     "metadata": {},
     "output_type": "execute_result"
    }
   ],
   "source": [
    "\n",
    "list2\n",
    "list2.pop()#return the items from the end & remove them from list"
   ]
  },
  {
   "cell_type": "code",
   "execution_count": 42,
   "metadata": {},
   "outputs": [
    {
     "data": {
      "text/plain": [
       "[12, 4.3, 'peter', 4.3, 5.8, 'peter', 'peter']"
      ]
     },
     "execution_count": 42,
     "metadata": {},
     "output_type": "execute_result"
    }
   ],
   "source": [
    "list2"
   ]
  },
  {
   "cell_type": "code",
   "execution_count": 43,
   "metadata": {},
   "outputs": [
    {
     "data": {
      "text/plain": [
       "'peter'"
      ]
     },
     "execution_count": 43,
     "metadata": {},
     "output_type": "execute_result"
    }
   ],
   "source": [
    "list2.pop(2)#when we add a index,return the object and remove it from list"
   ]
  },
  {
   "cell_type": "code",
   "execution_count": 44,
   "metadata": {},
   "outputs": [
    {
     "data": {
      "text/plain": [
       "[12, 4.3, 4.3, 5.8, 'peter', 'peter']"
      ]
     },
     "execution_count": 44,
     "metadata": {},
     "output_type": "execute_result"
    }
   ],
   "source": [
    "list2"
   ]
  },
  {
   "cell_type": "code",
   "execution_count": 47,
   "metadata": {},
   "outputs": [
    {
     "data": {
      "text/plain": [
       "[12, 4.3, 4.3, 'peter']"
      ]
     },
     "execution_count": 47,
     "metadata": {},
     "output_type": "execute_result"
    }
   ],
   "source": [
    "list2.remove('peter')#remove item (first instance)we want\n",
    "list2"
   ]
  },
  {
   "cell_type": "code",
   "execution_count": 50,
   "metadata": {},
   "outputs": [
    {
     "ename": "TypeError",
     "evalue": "'<' not supported between instances of 'str' and 'int'",
     "output_type": "error",
     "traceback": [
      "\u001b[1;31m---------------------------------------------------------------------------\u001b[0m",
      "\u001b[1;31mTypeError\u001b[0m                                 Traceback (most recent call last)",
      "\u001b[1;32m<ipython-input-50-be39abf709d2>\u001b[0m in \u001b[0;36m<module>\u001b[1;34m\u001b[0m\n\u001b[0;32m      1\u001b[0m \u001b[0mlist3\u001b[0m\u001b[1;33m=\u001b[0m\u001b[1;33m[\u001b[0m\u001b[1;36m85\u001b[0m\u001b[1;33m,\u001b[0m\u001b[1;36m91\u001b[0m\u001b[1;33m,\u001b[0m\u001b[1;36m28\u001b[0m\u001b[1;33m,\u001b[0m\u001b[1;36m19\u001b[0m\u001b[1;33m,\u001b[0m\u001b[1;34m'udara'\u001b[0m\u001b[1;33m]\u001b[0m\u001b[1;33m\u001b[0m\u001b[1;33m\u001b[0m\u001b[0m\n\u001b[1;32m----> 2\u001b[1;33m \u001b[0mlist3\u001b[0m\u001b[1;33m.\u001b[0m\u001b[0msort\u001b[0m\u001b[1;33m(\u001b[0m\u001b[1;33m)\u001b[0m\u001b[1;31m#sort the list(for numerical lists)\u001b[0m\u001b[1;33m\u001b[0m\u001b[1;33m\u001b[0m\u001b[0m\n\u001b[0m\u001b[0;32m      3\u001b[0m \u001b[0mlist3\u001b[0m\u001b[1;33m\u001b[0m\u001b[1;33m\u001b[0m\u001b[0m\n",
      "\u001b[1;31mTypeError\u001b[0m: '<' not supported between instances of 'str' and 'int'"
     ]
    }
   ],
   "source": [
    "list3=[85,91,28,19,'udara']\n",
    "list3.sort()#sort the list(for numerical lists)\n",
    "list3"
   ]
  },
  {
   "cell_type": "code",
   "execution_count": 53,
   "metadata": {},
   "outputs": [
    {
     "data": {
      "text/plain": [
       "[19, 28, 85, 91, 'udara']"
      ]
     },
     "execution_count": 53,
     "metadata": {},
     "output_type": "execute_result"
    }
   ],
   "source": [
    "list3\n",
    "list3.reverse()#reverse the order\n",
    "list3"
   ]
  },
  {
   "cell_type": "markdown",
   "metadata": {},
   "source": [
    "## List operations"
   ]
  },
  {
   "cell_type": "code",
   "execution_count": 54,
   "metadata": {},
   "outputs": [
    {
     "data": {
      "text/plain": [
       "[19, 28, 85, 91, 'udara', 'tom', 2.5, 'dog']"
      ]
     },
     "execution_count": 54,
     "metadata": {},
     "output_type": "execute_result"
    }
   ],
   "source": [
    "list4=list3+['tom',2.5,'dog']#lists can be concatanated\n",
    "list4"
   ]
  },
  {
   "cell_type": "code",
   "execution_count": 55,
   "metadata": {},
   "outputs": [
    {
     "data": {
      "text/plain": [
       "[19, 28, 85, 91, 'udara', 19, 28, 85, 91, 'udara']"
      ]
     },
     "execution_count": 55,
     "metadata": {},
     "output_type": "execute_result"
    }
   ],
   "source": [
    "list3=list3*2\n",
    "list3"
   ]
  },
  {
   "cell_type": "markdown",
   "metadata": {},
   "source": [
    "## List miscellaneous"
   ]
  },
  {
   "cell_type": "code",
   "execution_count": 105,
   "metadata": {},
   "outputs": [
    {
     "name": "stdout",
     "output_type": "stream",
     "text": [
      "[]\n"
     ]
    }
   ],
   "source": [
    "list1=[]#empty list\n",
    "print(list1)"
   ]
  },
  {
   "cell_type": "code",
   "execution_count": 12,
   "metadata": {},
   "outputs": [
    {
     "data": {
      "text/plain": [
       "['h', 'e', 'l', 'l', 'o', ' ', 'w', 'o', 'r', 'l', 'd']"
      ]
     },
     "execution_count": 12,
     "metadata": {},
     "output_type": "execute_result"
    }
   ],
   "source": [
    "String1=\"hello world\"\n",
    "list1=list(String1)\n",
    "list1"
   ]
  },
  {
   "cell_type": "code",
   "execution_count": 14,
   "metadata": {},
   "outputs": [
    {
     "data": {
      "text/plain": [
       "'[1, 2, 3, 4]'"
      ]
     },
     "execution_count": 14,
     "metadata": {},
     "output_type": "execute_result"
    }
   ],
   "source": [
    "list1=[1,2,3,4]\n",
    "string1=str(list1)\n",
    "string1"
   ]
  },
  {
   "cell_type": "code",
   "execution_count": 106,
   "metadata": {},
   "outputs": [
    {
     "data": {
      "text/plain": [
       "['1', '2', '3', '4', '5']"
      ]
     },
     "execution_count": 106,
     "metadata": {},
     "output_type": "execute_result"
    }
   ],
   "source": [
    "data1=\"1,2,3,4,5\"\n",
    "data1.split(',')#make strings with ,"
   ]
  },
  {
   "cell_type": "code",
   "execution_count": 59,
   "metadata": {},
   "outputs": [
    {
     "name": "stdout",
     "output_type": "stream",
     "text": [
      "enter 5 numbers(separated with commas): 11 12 13 14 15 \n"
     ]
    },
    {
     "data": {
      "text/plain": [
       "['11', '12', '13', '14', '15']"
      ]
     },
     "execution_count": 59,
     "metadata": {},
     "output_type": "execute_result"
    }
   ],
   "source": [
    "numbers=input(\"enter 5 numbers(separated with commas):\")\n",
    "marks=numbers.strip().split()\n",
    "marks"
   ]
  },
  {
   "cell_type": "code",
   "execution_count": 107,
   "metadata": {},
   "outputs": [
    {
     "data": {
      "text/plain": [
       "'1,2,3,4'"
      ]
     },
     "execution_count": 107,
     "metadata": {},
     "output_type": "execute_result"
    }
   ],
   "source": [
    "data2=\" 1,2,3,4 \"\n",
    "data2.strip()#remove the spaces in begin & end"
   ]
  },
  {
   "cell_type": "markdown",
   "metadata": {},
   "source": [
    "**other List functions will be explained in weekly tutorials**"
   ]
  },
  {
   "cell_type": "markdown",
   "metadata": {},
   "source": [
    "# 4. Tuples \n",
    "    \n",
    "    secured details are inserted.\n",
    "    \n",
    "    use () to present a tuple.\n",
    "    \n",
    "    item assignments can't be done (immuttable).\n",
    "    "
   ]
  },
  {
   "cell_type": "markdown",
   "metadata": {},
   "source": [
    "##### Exercise 4:\n",
    "Make your own tuple and perform the indexing and slicing operations."
   ]
  },
  {
   "cell_type": "code",
   "execution_count": 60,
   "metadata": {},
   "outputs": [
    {
     "name": "stdout",
     "output_type": "stream",
     "text": [
      "(1, 2, 3)\n"
     ]
    }
   ],
   "source": [
    "x=(1,2,3)\n",
    "print(x)"
   ]
  },
  {
   "cell_type": "code",
   "execution_count": 63,
   "metadata": {},
   "outputs": [
    {
     "data": {
      "text/plain": [
       "(1, 2)"
      ]
     },
     "execution_count": 63,
     "metadata": {},
     "output_type": "execute_result"
    }
   ],
   "source": [
    "#x[0]\n",
    "x[:2]"
   ]
  },
  {
   "cell_type": "code",
   "execution_count": 64,
   "metadata": {},
   "outputs": [
    {
     "ename": "TypeError",
     "evalue": "'tuple' object doesn't support item deletion",
     "output_type": "error",
     "traceback": [
      "\u001b[1;31m---------------------------------------------------------------------------\u001b[0m",
      "\u001b[1;31mTypeError\u001b[0m                                 Traceback (most recent call last)",
      "\u001b[1;32m<ipython-input-64-782fcac4ccec>\u001b[0m in \u001b[0;36m<module>\u001b[1;34m\u001b[0m\n\u001b[1;32m----> 1\u001b[1;33m \u001b[1;32mdel\u001b[0m\u001b[1;33m(\u001b[0m\u001b[0mx\u001b[0m\u001b[1;33m[\u001b[0m\u001b[1;36m0\u001b[0m\u001b[1;33m]\u001b[0m\u001b[1;33m)\u001b[0m\u001b[1;33m\u001b[0m\u001b[1;33m\u001b[0m\u001b[0m\n\u001b[0m",
      "\u001b[1;31mTypeError\u001b[0m: 'tuple' object doesn't support item deletion"
     ]
    }
   ],
   "source": [
    "del(x[0])"
   ]
  },
  {
   "cell_type": "markdown",
   "metadata": {},
   "source": [
    "## Tuple built in functions"
   ]
  },
  {
   "cell_type": "code",
   "execution_count": 65,
   "metadata": {},
   "outputs": [
    {
     "data": {
      "text/plain": [
       "2"
      ]
     },
     "execution_count": 65,
     "metadata": {},
     "output_type": "execute_result"
    }
   ],
   "source": [
    "tp1=(12,13,14,15,14)\n",
    "tp1.count(14)#count the item we want\n"
   ]
  },
  {
   "cell_type": "code",
   "execution_count": 110,
   "metadata": {},
   "outputs": [
    {
     "data": {
      "text/plain": [
       "1"
      ]
     },
     "execution_count": 110,
     "metadata": {},
     "output_type": "execute_result"
    }
   ],
   "source": [
    "tp1.index(13)#return the index"
   ]
  },
  {
   "cell_type": "markdown",
   "metadata": {},
   "source": [
    "#### what if a tuple has to be treated as a mutable ?"
   ]
  },
  {
   "cell_type": "code",
   "execution_count": 111,
   "metadata": {},
   "outputs": [
    {
     "data": {
      "text/plain": [
       "(12, 3, 14, 15, 14)"
      ]
     },
     "execution_count": 111,
     "metadata": {},
     "output_type": "execute_result"
    }
   ],
   "source": [
    "list1=list(tp1)#we can do item assignments in tuples by casting it to lists\n",
    "list1[1]=3\n",
    "tp1=tuple(list1)\n",
    "tp1"
   ]
  },
  {
   "cell_type": "markdown",
   "metadata": {},
   "source": [
    "## Nested Data Storages\n",
    "\n",
    "    1. [ [],[],[] ]\n",
    "    2. [ (),(),() ]\n",
    "    3. ( [],[],[] )\n",
    "    4. ( (),(),() )"
   ]
  },
  {
   "cell_type": "code",
   "execution_count": 67,
   "metadata": {},
   "outputs": [
    {
     "data": {
      "text/plain": [
       "[1, 2, 3]"
      ]
     },
     "execution_count": 67,
     "metadata": {},
     "output_type": "execute_result"
    }
   ],
   "source": [
    "data1=[[1,2,3],\n",
    "       [4,5,6],\n",
    "       [7,8,9],\n",
    "       [10,11,12]]\n",
    "data1[:][0]#[row no][colomn no]"
   ]
  },
  {
   "cell_type": "markdown",
   "metadata": {},
   "source": [
    "# 5. Dictionaries\n",
    "\n",
    "    we can use convinient indexing names.\n",
    "    \n",
    "    use {} to present a dictionary.\n",
    "    \n",
    "    keys & values are there for items.\n",
    "    \n",
    "    muttable.\n",
    "    \n",
    "    Concatenation  & multiplying can't be done"
   ]
  },
  {
   "cell_type": "code",
   "execution_count": 115,
   "metadata": {},
   "outputs": [
    {
     "data": {
      "text/plain": [
       "'tom'"
      ]
     },
     "execution_count": 115,
     "metadata": {},
     "output_type": "execute_result"
    }
   ],
   "source": [
    "dic1={\"name\":\"tom\",\"age\":19,2:220}\n",
    "dic1[\"name\"]#brings the value of key"
   ]
  },
  {
   "cell_type": "code",
   "execution_count": 116,
   "metadata": {},
   "outputs": [
    {
     "data": {
      "text/plain": [
       "3"
      ]
     },
     "execution_count": 116,
     "metadata": {},
     "output_type": "execute_result"
    }
   ],
   "source": [
    "len(dic1)"
   ]
  },
  {
   "cell_type": "markdown",
   "metadata": {},
   "source": [
    "## Dictionary built in functions"
   ]
  },
  {
   "cell_type": "code",
   "execution_count": 117,
   "metadata": {},
   "outputs": [
    {
     "data": {
      "text/plain": [
       "220"
      ]
     },
     "execution_count": 117,
     "metadata": {},
     "output_type": "execute_result"
    }
   ],
   "source": [
    "dic1.get(2)#returns the value of key"
   ]
  },
  {
   "cell_type": "code",
   "execution_count": 8,
   "metadata": {},
   "outputs": [
    {
     "data": {
      "text/plain": [
       "1"
      ]
     },
     "execution_count": 8,
     "metadata": {},
     "output_type": "execute_result"
    }
   ],
   "source": [
    "dic1={1:23,2:24,3:25}\n",
    "p=list(dic1.keys())#returns all keys\n",
    "p[0]"
   ]
  },
  {
   "cell_type": "code",
   "execution_count": 119,
   "metadata": {},
   "outputs": [
    {
     "data": {
      "text/plain": [
       "dict_keys"
      ]
     },
     "execution_count": 119,
     "metadata": {},
     "output_type": "execute_result"
    }
   ],
   "source": [
    "type(dic1.keys())"
   ]
  },
  {
   "cell_type": "code",
   "execution_count": 120,
   "metadata": {},
   "outputs": [
    {
     "data": {
      "text/plain": [
       "dict_values(['tom', 19, 220])"
      ]
     },
     "execution_count": 120,
     "metadata": {},
     "output_type": "execute_result"
    }
   ],
   "source": [
    "dic1.values()#returns all values"
   ]
  },
  {
   "cell_type": "code",
   "execution_count": 121,
   "metadata": {},
   "outputs": [
    {
     "data": {
      "text/plain": [
       "dict_values"
      ]
     },
     "execution_count": 121,
     "metadata": {},
     "output_type": "execute_result"
    }
   ],
   "source": [
    "type(dic1.values())"
   ]
  },
  {
   "cell_type": "code",
   "execution_count": 122,
   "metadata": {},
   "outputs": [
    {
     "data": {
      "text/plain": [
       "dict_items([('name', 'tom'), ('age', 19), (2, 220)])"
      ]
     },
     "execution_count": 122,
     "metadata": {},
     "output_type": "execute_result"
    }
   ],
   "source": [
    "dic1.items()#returns both key & value"
   ]
  },
  {
   "cell_type": "code",
   "execution_count": 123,
   "metadata": {},
   "outputs": [
    {
     "data": {
      "text/plain": [
       "{'name': 'tom', 'age': 19, 2: 220}"
      ]
     },
     "execution_count": 123,
     "metadata": {},
     "output_type": "execute_result"
    }
   ],
   "source": [
    "dic2=dic1.copy()#get a shallow copy of dictionary\n",
    "dic2"
   ]
  },
  {
   "cell_type": "code",
   "execution_count": 124,
   "metadata": {},
   "outputs": [
    {
     "data": {
      "text/plain": [
       "{}"
      ]
     },
     "execution_count": 124,
     "metadata": {},
     "output_type": "execute_result"
    }
   ],
   "source": [
    "dic1.clear()\n",
    "dic1"
   ]
  },
  {
   "cell_type": "code",
   "execution_count": 125,
   "metadata": {},
   "outputs": [
    {
     "data": {
      "text/plain": [
       "{'name': 'tom', 'age': 19, 2: 220, 'gender': None}"
      ]
     },
     "execution_count": 125,
     "metadata": {},
     "output_type": "execute_result"
    }
   ],
   "source": [
    "dic2.setdefault('gender')#we can add new keys to the end\n",
    "dic2"
   ]
  },
  {
   "cell_type": "code",
   "execution_count": 126,
   "metadata": {},
   "outputs": [
    {
     "data": {
      "text/plain": [
       "{'name': 'tom', 'age': 19, 2: 220, 'gender': None}"
      ]
     },
     "execution_count": 126,
     "metadata": {},
     "output_type": "execute_result"
    }
   ],
   "source": [
    "dic2.setdefault('gender','male')#but we can't add same key again\n",
    "dic2"
   ]
  },
  {
   "cell_type": "code",
   "execution_count": 127,
   "metadata": {},
   "outputs": [
    {
     "data": {
      "text/plain": [
       "{'name': 'tom', 'age': 19, 2: 220, 'gender': None, 'mobile': '0987652345'}"
      ]
     },
     "execution_count": 127,
     "metadata": {},
     "output_type": "execute_result"
    }
   ],
   "source": [
    "dic2.setdefault('mobile','0987652345')\n",
    "dic2"
   ]
  },
  {
   "cell_type": "code",
   "execution_count": 128,
   "metadata": {},
   "outputs": [
    {
     "data": {
      "text/plain": [
       "220"
      ]
     },
     "execution_count": 128,
     "metadata": {},
     "output_type": "execute_result"
    }
   ],
   "source": [
    "dic2.pop(2)#return the value of the key & remove them from dictionary"
   ]
  },
  {
   "cell_type": "code",
   "execution_count": 129,
   "metadata": {},
   "outputs": [
    {
     "data": {
      "text/plain": [
       "{'name': 'tom', 'age': 19, 'gender': None, 'mobile': '0987652345'}"
      ]
     },
     "execution_count": 129,
     "metadata": {},
     "output_type": "execute_result"
    }
   ],
   "source": [
    "dic2"
   ]
  },
  {
   "cell_type": "code",
   "execution_count": 130,
   "metadata": {},
   "outputs": [
    {
     "data": {
      "text/plain": [
       "('mobile', '0987652345')"
      ]
     },
     "execution_count": 130,
     "metadata": {},
     "output_type": "execute_result"
    }
   ],
   "source": [
    "dic2.popitem()#return the items from the end & remove them"
   ]
  },
  {
   "cell_type": "code",
   "execution_count": 131,
   "metadata": {},
   "outputs": [
    {
     "data": {
      "text/plain": [
       "{'name': 'tom', 'age': 19, 'gender': None}"
      ]
     },
     "execution_count": 131,
     "metadata": {},
     "output_type": "execute_result"
    }
   ],
   "source": [
    "dic2"
   ]
  },
  {
   "cell_type": "code",
   "execution_count": 132,
   "metadata": {},
   "outputs": [
    {
     "data": {
      "text/plain": [
       "{'name': 'tom', 'age': 19, 'gender': None, 2: 200, 'weight': 50.6}"
      ]
     },
     "execution_count": 132,
     "metadata": {},
     "output_type": "execute_result"
    }
   ],
   "source": [
    "dic2.update({2:200,'weight':50.6})#concatanate the data to the end\n",
    "dic2"
   ]
  },
  {
   "cell_type": "code",
   "execution_count": 1,
   "metadata": {},
   "outputs": [
    {
     "data": {
      "text/plain": [
       "{'a': 12, 'b': 13, 345: 'udara'}"
      ]
     },
     "execution_count": 1,
     "metadata": {},
     "output_type": "execute_result"
    }
   ],
   "source": [
    "x={'a':12,'b':13,345:\"udara\"}\n",
    "x."
   ]
  },
  {
   "cell_type": "markdown",
   "metadata": {},
   "source": [
    "# *Loops*\n",
    "\n",
    "    1. While loop\n",
    "    2. For loop"
   ]
  },
  {
   "cell_type": "markdown",
   "metadata": {},
   "source": [
    "### 1. While loop"
   ]
  },
  {
   "cell_type": "code",
   "execution_count": 10,
   "metadata": {},
   "outputs": [
    {
     "name": "stdout",
     "output_type": "stream",
     "text": [
      "hello 1\n",
      "hello 3\n",
      "hello 5\n",
      "hello 7\n"
     ]
    }
   ],
   "source": [
    "i=1 #loop variable\n",
    "while(i<=8): #decide the destination(condition)\n",
    "    print(\"hello\",i)\n",
    "    i+=2 #carrier\n"
   ]
  },
  {
   "cell_type": "code",
   "execution_count": 11,
   "metadata": {},
   "outputs": [
    {
     "name": "stdout",
     "output_type": "stream",
     "text": [
      "1\n",
      "2\n",
      "3\n",
      "4\n",
      "5\n",
      "6\n",
      "7\n",
      "8\n",
      "9\n",
      "10\n"
     ]
    }
   ],
   "source": [
    "#printing numbers\n",
    "i=1\n",
    "while(i<=10):\n",
    "    print(i)\n",
    "    i+=1"
   ]
  },
  {
   "cell_type": "code",
   "execution_count": 12,
   "metadata": {},
   "outputs": [
    {
     "name": "stdout",
     "output_type": "stream",
     "text": [
      "1 =odd\n",
      "2 =even\n",
      "3 =odd\n",
      "4 =even\n",
      "5 =odd\n",
      "6 =even\n",
      "7 =odd\n",
      "8 =even\n",
      "9 =odd\n",
      "10 =even\n",
      "11 =odd\n",
      "12 =even\n",
      "13 =odd\n",
      "14 =even\n",
      "15 =odd\n",
      "16 =even\n",
      "17 =odd\n",
      "18 =even\n",
      "19 =odd\n",
      "20 =even\n",
      "21 =odd\n",
      "22 =even\n",
      "23 =odd\n",
      "24 =even\n",
      "25 =odd\n",
      "26 =even\n",
      "27 =odd\n",
      "28 =even\n",
      "29 =odd\n",
      "30 =even\n",
      "31 =odd\n",
      "32 =even\n",
      "33 =odd\n",
      "34 =even\n",
      "35 =odd\n",
      "36 =even\n",
      "37 =odd\n",
      "38 =even\n",
      "39 =odd\n",
      "40 =even\n",
      "41 =odd\n",
      "42 =even\n",
      "43 =odd\n",
      "44 =even\n",
      "45 =odd\n",
      "46 =even\n",
      "47 =odd\n",
      "48 =even\n",
      "49 =odd\n",
      "50 =even\n",
      "51 =odd\n",
      "52 =even\n",
      "53 =odd\n",
      "54 =even\n",
      "55 =odd\n",
      "56 =even\n",
      "57 =odd\n",
      "58 =even\n",
      "59 =odd\n",
      "60 =even\n",
      "61 =odd\n",
      "62 =even\n",
      "63 =odd\n",
      "64 =even\n",
      "65 =odd\n",
      "66 =even\n",
      "67 =odd\n",
      "68 =even\n",
      "69 =odd\n",
      "70 =even\n",
      "71 =odd\n",
      "72 =even\n",
      "73 =odd\n",
      "74 =even\n",
      "75 =odd\n",
      "76 =even\n",
      "77 =odd\n",
      "78 =even\n",
      "79 =odd\n",
      "80 =even\n",
      "81 =odd\n",
      "82 =even\n",
      "83 =odd\n",
      "84 =even\n",
      "85 =odd\n",
      "86 =even\n",
      "87 =odd\n",
      "88 =even\n",
      "89 =odd\n",
      "90 =even\n",
      "91 =odd\n",
      "92 =even\n",
      "93 =odd\n",
      "94 =even\n",
      "95 =odd\n",
      "96 =even\n",
      "97 =odd\n",
      "98 =even\n",
      "99 =odd\n",
      "100 =even\n"
     ]
    }
   ],
   "source": [
    "i=1\n",
    "while(i<=100):\n",
    "    if((i%2)==0):\n",
    "        print(i,\"=even\")\n",
    "    else:\n",
    "        print(i,\"=odd\")\n",
    "    i+=1"
   ]
  },
  {
   "cell_type": "markdown",
   "metadata": {},
   "source": [
    "##### Exercise 5\n",
    "Separate the integers  from a given starting value to an ending value as even and odd numbers to two separate lists."
   ]
  },
  {
   "cell_type": "code",
   "execution_count": 13,
   "metadata": {},
   "outputs": [
    {
     "name": "stdout",
     "output_type": "stream",
     "text": [
      "enter a start:12\n",
      "enter an end:124\n",
      "[12, 14, 16, 18, 20, 22, 24, 26, 28, 30, 32, 34, 36, 38, 40, 42, 44, 46, 48, 50, 52, 54, 56, 58, 60, 62, 64, 66, 68, 70, 72, 74, 76, 78, 80, 82, 84, 86, 88, 90, 92, 94, 96, 98, 100, 102, 104, 106, 108, 110, 112, 114, 116, 118, 120, 122, 124] [13, 15, 17, 19, 21, 23, 25, 27, 29, 31, 33, 35, 37, 39, 41, 43, 45, 47, 49, 51, 53, 55, 57, 59, 61, 63, 65, 67, 69, 71, 73, 75, 77, 79, 81, 83, 85, 87, 89, 91, 93, 95, 97, 99, 101, 103, 105, 107, 109, 111, 113, 115, 117, 119, 121, 123]\n"
     ]
    }
   ],
   "source": [
    "# a loop to iterate start to end\n",
    "# sorting method\n",
    "# storing method\n",
    "start=int(input(\"enter a start:\"))\n",
    "end=int(input(\"enter an end:\"))\n",
    "\n",
    "i=start\n",
    "even=[]\n",
    "odd=[]\n",
    "while(i<=end):\n",
    "    if((i%2)==0):\n",
    "        even.append(i)\n",
    "    else:\n",
    "        odd.append(i)\n",
    "    i+=1\n",
    "print(even,odd)\n",
    " "
   ]
  },
  {
   "cell_type": "code",
   "execution_count": 4,
   "metadata": {},
   "outputs": [
    {
     "name": "stdout",
     "output_type": "stream",
     "text": [
      "enter the starting value:2\n",
      "enter the ending value:200\n",
      "even: [2, 4, 6, 8, 10, 12, 14, 16, 18, 20, 22, 24, 26, 28, 30, 32, 34, 36, 38, 40, 42, 44, 46, 48, 50, 52, 54, 56, 58, 60, 62, 64, 66, 68, 70, 72, 74, 76, 78, 80, 82, 84, 86, 88, 90, 92, 94, 96, 98, 100, 102, 104, 106, 108, 110, 112, 114, 116, 118, 120, 122, 124, 126, 128, 130, 132, 134, 136, 138, 140, 142, 144, 146, 148, 150, 152, 154, 156, 158, 160, 162, 164, 166, 168, 170, 172, 174, 176, 178, 180, 182, 184, 186, 188, 190, 192, 194, 196, 198, 200]\n",
      "odd: [3, 5, 7, 9, 11, 13, 15, 17, 19, 21, 23, 25, 27, 29, 31, 33, 35, 37, 39, 41, 43, 45, 47, 49, 51, 53, 55, 57, 59, 61, 63, 65, 67, 69, 71, 73, 75, 77, 79, 81, 83, 85, 87, 89, 91, 93, 95, 97, 99, 101, 103, 105, 107, 109, 111, 113, 115, 117, 119, 121, 123, 125, 127, 129, 131, 133, 135, 137, 139, 141, 143, 145, 147, 149, 151, 153, 155, 157, 159, 161, 163, 165, 167, 169, 171, 173, 175, 177, 179, 181, 183, 185, 187, 189, 191, 193, 195, 197, 199]\n"
     ]
    }
   ],
   "source": [
    "start=int(input(\"enter the starting value:\"))\n",
    "end=int(input(\"enter the ending value:\"))\n",
    "i=start\n",
    "even=[]\n",
    "odd=[]\n",
    "while(i<=end):\n",
    "    if((i%2)==0 ):\n",
    "        even.append(i)\n",
    "    else:\n",
    "        odd.append(i)\n",
    "    i+=1\n",
    "print('even:',even)\n",
    "print('odd:',odd)"
   ]
  },
  {
   "cell_type": "code",
   "execution_count": 15,
   "metadata": {},
   "outputs": [
    {
     "name": "stdout",
     "output_type": "stream",
     "text": [
      "12x1=12\n",
      "12x2=24\n",
      "12x3=36\n",
      "12x4=48\n",
      "12x5=60\n",
      "12x6=72\n",
      "12x7=84\n",
      "12x8=96\n",
      "12x9=108\n",
      "12x10=120\n",
      "12x11=132\n",
      "12x12=144\n",
      "end of the table\n"
     ]
    }
   ],
   "source": [
    "#perform a decision making at the end of the loop\n",
    "i=1\n",
    "while(i<=12):\n",
    "    print(\"12x%d=%d\"%(i,12*i))\n",
    "    i+=1\n",
    "else:\n",
    "    print(\"end of the table\")"
   ]
  },
  {
   "cell_type": "markdown",
   "metadata": {},
   "source": [
    "## Python Operators continued\n",
    "\n",
    "    7. Membership Operators\n",
    "    check whether the item is a member or not.\n",
    "        1. in\n",
    "        \n",
    "        2. not in"
   ]
  },
  {
   "cell_type": "code",
   "execution_count": 16,
   "metadata": {},
   "outputs": [
    {
     "data": {
      "text/plain": [
       "True"
      ]
     },
     "execution_count": 16,
     "metadata": {},
     "output_type": "execute_result"
    }
   ],
   "source": [
    "12 in [11,12,13,14]"
   ]
  },
  {
   "cell_type": "code",
   "execution_count": 3,
   "metadata": {},
   "outputs": [
    {
     "data": {
      "text/plain": [
       "True"
      ]
     },
     "execution_count": 3,
     "metadata": {},
     "output_type": "execute_result"
    }
   ],
   "source": [
    "\"y\" not in ['p','q','r']"
   ]
  },
  {
   "cell_type": "code",
   "execution_count": 22,
   "metadata": {},
   "outputs": [
    {
     "data": {
      "text/plain": [
       "True"
      ]
     },
     "execution_count": 22,
     "metadata": {},
     "output_type": "execute_result"
    }
   ],
   "source": [
    "x=(1,2,\"udara\")\n",
    "X={1:12,\"udara\":13,3:14}\n",
    "y=\"udara\"\n",
    "y in  X"
   ]
  },
  {
   "cell_type": "markdown",
   "metadata": {},
   "source": [
    "### 2. For loop"
   ]
  },
  {
   "cell_type": "code",
   "execution_count": 23,
   "metadata": {},
   "outputs": [
    {
     "name": "stdout",
     "output_type": "stream",
     "text": [
      "i love eating apple\n",
      "i love eating mango\n",
      "i love eating orange\n",
      "i love eating grapes\n"
     ]
    }
   ],
   "source": [
    "#iterating through a list\n",
    "#to iterate through any iterable object\n",
    "fruits=[\"apple\",\"mango\",\"orange\",\"grapes\"]#list are iterable objects in default\n",
    "for fruit in fruits:\n",
    "    print(\"i love eating\",fruit)"
   ]
  },
  {
   "cell_type": "code",
   "execution_count": 24,
   "metadata": {},
   "outputs": [
    {
     "name": "stdout",
     "output_type": "stream",
     "text": [
      "tom\n",
      "19\n",
      "male\n"
     ]
    }
   ],
   "source": [
    "#iterating through a tuple\n",
    "data=('tom',19,'male')\n",
    "for x in data:\n",
    "    print(x)"
   ]
  },
  {
   "cell_type": "code",
   "execution_count": 28,
   "metadata": {},
   "outputs": [
    {
     "name": "stdout",
     "output_type": "stream",
     "text": [
      "name = tom\n",
      "age = 19\n",
      "gender = male\n"
     ]
    }
   ],
   "source": [
    "#iterating through a dictionary\n",
    "\n",
    "data={'name':'tom','age':19,'gender':'male'}\n",
    "for x in data:\n",
    "    print(x,\"=\",data[x])#data[\"name\"]\n"
   ]
  },
  {
   "cell_type": "code",
   "execution_count": 26,
   "metadata": {},
   "outputs": [
    {
     "name": "stdout",
     "output_type": "stream",
     "text": [
      "tom\n",
      "19\n",
      "male\n"
     ]
    }
   ],
   "source": [
    "for y in data.values():\n",
    "    print(y)\n"
   ]
  },
  {
   "cell_type": "code",
   "execution_count": 29,
   "metadata": {},
   "outputs": [
    {
     "data": {
      "text/plain": [
       "dict_items([('name', 'tom'), ('age', 19), ('gender', 'male')])"
      ]
     },
     "execution_count": 29,
     "metadata": {},
     "output_type": "execute_result"
    }
   ],
   "source": [
    "data.items()"
   ]
  },
  {
   "cell_type": "code",
   "execution_count": 31,
   "metadata": {},
   "outputs": [
    {
     "name": "stdout",
     "output_type": "stream",
     "text": [
      "name\n",
      "age\n",
      "gender\n"
     ]
    }
   ],
   "source": [
    "for z in data.items():\n",
    "    print(z[0])\n"
   ]
  },
  {
   "cell_type": "code",
   "execution_count": 35,
   "metadata": {},
   "outputs": [
    {
     "name": "stdout",
     "output_type": "stream",
     "text": [
      "12 13\n"
     ]
    }
   ],
   "source": [
    "x,y,z=(12,13,23)\n",
    "print(x,y)"
   ]
  },
  {
   "cell_type": "code",
   "execution_count": 36,
   "metadata": {},
   "outputs": [
    {
     "name": "stdout",
     "output_type": "stream",
     "text": [
      "name tom\n",
      "age 19\n",
      "gender male\n",
      "end of the table\n"
     ]
    }
   ],
   "source": [
    "for k,v in data.items():\n",
    "    print(k,v)\n",
    "else:\n",
    "    print(\"end of the table\")"
   ]
  },
  {
   "cell_type": "code",
   "execution_count": 37,
   "metadata": {},
   "outputs": [
    {
     "data": {
      "text/plain": [
       "range(0, 10)"
      ]
     },
     "execution_count": 37,
     "metadata": {},
     "output_type": "execute_result"
    }
   ],
   "source": [
    "range(10)"
   ]
  },
  {
   "cell_type": "code",
   "execution_count": 8,
   "metadata": {},
   "outputs": [
    {
     "name": "stdout",
     "output_type": "stream",
     "text": [
      "0\n",
      "1\n",
      "2\n",
      "3\n",
      "4\n",
      "5\n",
      "6\n",
      "7\n",
      "8\n",
      "9\n"
     ]
    }
   ],
   "source": [
    "for x in range(10):\n",
    "    print(x)"
   ]
  },
  {
   "cell_type": "code",
   "execution_count": 38,
   "metadata": {},
   "outputs": [
    {
     "name": "stdout",
     "output_type": "stream",
     "text": [
      "1\n",
      "2\n",
      "3\n",
      "4\n",
      "5\n",
      "6\n",
      "7\n",
      "8\n",
      "9\n",
      "10\n"
     ]
    }
   ],
   "source": [
    "for x in range(1,11):\n",
    "    print(x)"
   ]
  },
  {
   "cell_type": "code",
   "execution_count": 39,
   "metadata": {},
   "outputs": [
    {
     "name": "stdout",
     "output_type": "stream",
     "text": [
      "1\n",
      "3\n",
      "5\n",
      "7\n",
      "9\n"
     ]
    }
   ],
   "source": [
    "for x in range(1,11,2):\n",
    "    print(x)"
   ]
  },
  {
   "cell_type": "code",
   "execution_count": null,
   "metadata": {},
   "outputs": [],
   "source": [
    "a b c d e f g h "
   ]
  },
  {
   "cell_type": "code",
   "execution_count": 11,
   "metadata": {},
   "outputs": [
    {
     "name": "stdout",
     "output_type": "stream",
     "text": [
      "0\n",
      "2\n",
      "4\n",
      "6\n",
      "8\n",
      "10\n"
     ]
    }
   ],
   "source": [
    "#see how simple it is to find the even numbers\n",
    "for x in range(0,11,2):\n",
    "    print(x)"
   ]
  },
  {
   "cell_type": "markdown",
   "metadata": {},
   "source": [
    "##### Exercise 6\n",
    "Get five integers from the user at once."
   ]
  },
  {
   "cell_type": "code",
   "execution_count": 45,
   "metadata": {},
   "outputs": [
    {
     "name": "stdout",
     "output_type": "stream",
     "text": [
      "enter 5 numbers separated with ',':1,2,3,4,5\n"
     ]
    },
    {
     "data": {
      "text/plain": [
       "[1, 2, 3, 4, 5]"
      ]
     },
     "execution_count": 45,
     "metadata": {},
     "output_type": "execute_result"
    }
   ],
   "source": [
    "numbers=input(\"enter 5 numbers separated with ',':\")\n",
    "integrs=numbers.strip().split(',')\n",
    "for i in integrs:\n",
    "    integrs[ integrs.index(i) ]=int(i)\n",
    "#integrs"
   ]
  },
  {
   "cell_type": "code",
   "execution_count": 46,
   "metadata": {},
   "outputs": [
    {
     "name": "stdout",
     "output_type": "stream",
     "text": [
      "enter 5 numbers separated with ',':1,2,3,4,5\n",
      "[1, 2, 3, 4, 5]\n"
     ]
    }
   ],
   "source": [
    "integers=[ int(x) for x in input(\"enter 5 numbers separated with ',':\").strip().split(',') ]\n",
    "print(integers)"
   ]
  },
  {
   "cell_type": "code",
   "execution_count": 47,
   "metadata": {},
   "outputs": [
    {
     "ename": "SyntaxError",
     "evalue": "invalid syntax (<ipython-input-47-e67790eb28e7>, line 1)",
     "output_type": "error",
     "traceback": [
      "\u001b[1;36m  File \u001b[1;32m\"<ipython-input-47-e67790eb28e7>\"\u001b[1;36m, line \u001b[1;32m1\u001b[0m\n\u001b[1;33m    int(x) for x in input(\"enter 5 numbers separated with ',':\").strip().split(',')\u001b[0m\n\u001b[1;37m             ^\u001b[0m\n\u001b[1;31mSyntaxError\u001b[0m\u001b[1;31m:\u001b[0m invalid syntax\n"
     ]
    }
   ],
   "source": [
    "int(x) for x in input(\"enter 5 numbers separated with ',':\").strip().split(',')"
   ]
  },
  {
   "cell_type": "code",
   "execution_count": 49,
   "metadata": {},
   "outputs": [
    {
     "name": "stdout",
     "output_type": "stream",
     "text": [
      "enter 3 names separated with a space:abc def ghf\n",
      "['ABC', 'DEF', 'GHF']\n"
     ]
    }
   ],
   "source": [
    "print( [name.upper() for name in input(\"enter 3 names separated with a space:\").strip().split()] )"
   ]
  },
  {
   "cell_type": "code",
   "execution_count": 13,
   "metadata": {},
   "outputs": [
    {
     "name": "stdout",
     "output_type": "stream",
     "text": [
      "2 x 1 = 2\n",
      "2 x 2 = 4\n",
      "2 x 3 = 6\n",
      "2 x 4 = 8\n",
      "2 x 5 = 10\n",
      "2 x 6 = 12\n",
      "2 x 7 = 14\n",
      "2 x 8 = 16\n",
      "2 x 9 = 18\n",
      "2 x 10 = 20\n",
      "2 x 11 = 22\n",
      "2 x 12 = 24\n",
      " \n",
      "3 x 1 = 3\n",
      "3 x 2 = 6\n",
      "3 x 3 = 9\n",
      "3 x 4 = 12\n",
      "3 x 5 = 15\n",
      "3 x 6 = 18\n",
      "3 x 7 = 21\n",
      "3 x 8 = 24\n",
      "3 x 9 = 27\n",
      "3 x 10 = 30\n",
      "3 x 11 = 33\n",
      "3 x 12 = 36\n",
      " \n",
      "4 x 1 = 4\n",
      "4 x 2 = 8\n",
      "4 x 3 = 12\n",
      "4 x 4 = 16\n",
      "4 x 5 = 20\n",
      "4 x 6 = 24\n",
      "4 x 7 = 28\n",
      "4 x 8 = 32\n",
      "4 x 9 = 36\n",
      "4 x 10 = 40\n",
      "4 x 11 = 44\n",
      "4 x 12 = 48\n",
      " \n",
      "5 x 1 = 5\n",
      "5 x 2 = 10\n",
      "5 x 3 = 15\n",
      "5 x 4 = 20\n",
      "5 x 5 = 25\n",
      "5 x 6 = 30\n",
      "5 x 7 = 35\n",
      "5 x 8 = 40\n",
      "5 x 9 = 45\n",
      "5 x 10 = 50\n",
      "5 x 11 = 55\n",
      "5 x 12 = 60\n",
      " \n",
      "6 x 1 = 6\n",
      "6 x 2 = 12\n",
      "6 x 3 = 18\n",
      "6 x 4 = 24\n",
      "6 x 5 = 30\n",
      "6 x 6 = 36\n",
      "6 x 7 = 42\n",
      "6 x 8 = 48\n",
      "6 x 9 = 54\n",
      "6 x 10 = 60\n",
      "6 x 11 = 66\n",
      "6 x 12 = 72\n",
      " \n",
      "7 x 1 = 7\n",
      "7 x 2 = 14\n",
      "7 x 3 = 21\n",
      "7 x 4 = 28\n",
      "7 x 5 = 35\n",
      "7 x 6 = 42\n",
      "7 x 7 = 49\n",
      "7 x 8 = 56\n",
      "7 x 9 = 63\n",
      "7 x 10 = 70\n",
      "7 x 11 = 77\n",
      "7 x 12 = 84\n",
      " \n",
      "8 x 1 = 8\n",
      "8 x 2 = 16\n",
      "8 x 3 = 24\n",
      "8 x 4 = 32\n",
      "8 x 5 = 40\n",
      "8 x 6 = 48\n",
      "8 x 7 = 56\n",
      "8 x 8 = 64\n",
      "8 x 9 = 72\n",
      "8 x 10 = 80\n",
      "8 x 11 = 88\n",
      "8 x 12 = 96\n",
      " \n",
      "9 x 1 = 9\n",
      "9 x 2 = 18\n",
      "9 x 3 = 27\n",
      "9 x 4 = 36\n",
      "9 x 5 = 45\n",
      "9 x 6 = 54\n",
      "9 x 7 = 63\n",
      "9 x 8 = 72\n",
      "9 x 9 = 81\n",
      "9 x 10 = 90\n",
      "9 x 11 = 99\n",
      "9 x 12 = 108\n",
      " \n",
      "10 x 1 = 10\n",
      "10 x 2 = 20\n",
      "10 x 3 = 30\n",
      "10 x 4 = 40\n",
      "10 x 5 = 50\n",
      "10 x 6 = 60\n",
      "10 x 7 = 70\n",
      "10 x 8 = 80\n",
      "10 x 9 = 90\n",
      "10 x 10 = 100\n",
      "10 x 11 = 110\n",
      "10 x 12 = 120\n",
      " \n",
      "11 x 1 = 11\n",
      "11 x 2 = 22\n",
      "11 x 3 = 33\n",
      "11 x 4 = 44\n",
      "11 x 5 = 55\n",
      "11 x 6 = 66\n",
      "11 x 7 = 77\n",
      "11 x 8 = 88\n",
      "11 x 9 = 99\n",
      "11 x 10 = 110\n",
      "11 x 11 = 121\n",
      "11 x 12 = 132\n",
      " \n",
      "12 x 1 = 12\n",
      "12 x 2 = 24\n",
      "12 x 3 = 36\n",
      "12 x 4 = 48\n",
      "12 x 5 = 60\n",
      "12 x 6 = 72\n",
      "12 x 7 = 84\n",
      "12 x 8 = 96\n",
      "12 x 9 = 108\n",
      "12 x 10 = 120\n",
      "12 x 11 = 132\n",
      "12 x 12 = 144\n",
      " \n"
     ]
    }
   ],
   "source": [
    "#nested loops\n",
    "for i in range(2,13):\n",
    "    for j in range(1,13):\n",
    "        print(i,\"x\",j,\"=\",i*j)\n",
    "    print(\" \")"
   ]
  },
  {
   "cell_type": "code",
   "execution_count": 50,
   "metadata": {},
   "outputs": [
    {
     "name": "stdout",
     "output_type": "stream",
     "text": [
      "enter details for student  1\n",
      "enter name:sss\n",
      "enter age:12\n",
      "enter gender:dddd\n",
      "enter details for student  2\n",
      "enter name:www\n",
      "enter age:13\n",
      "enter gender:ddd\n",
      "enter details for student  3\n",
      "enter name:ffff\n",
      "enter age:34\n",
      "enter gender:fgg\n",
      "[{'name': 'sss', 'age': 12, 'gender': 'dddd'}, {'name': 'www', 'age': 13, 'gender': 'ddd'}, {'name': 'ffff', 'age': 34, 'gender': 'fgg'}]\n"
     ]
    }
   ],
   "source": [
    "#sample code with loops,Lists and Dictionaries for student data insertion\n",
    "students=[]\n",
    "for i in range(3):\n",
    "    print(\"enter details for student \",i+1)\n",
    "    data={'name':input(\"enter name:\"),\n",
    "    'age':int(input(\"enter age:\")),\n",
    "    'gender':input(\"enter gender:\")}\n",
    "    students.append(data)\n",
    "print(students)"
   ]
  },
  {
   "cell_type": "markdown",
   "metadata": {},
   "source": [
    "### Loop Commands\n",
    "    \n",
    "    1. Break\n",
    "        >stop a loop enforcely\n",
    "    2. Continue\n",
    "        >skip the repetition(only for for loops)\n",
    "    3. Pass\n",
    "        >pass the block"
   ]
  },
  {
   "cell_type": "code",
   "execution_count": 52,
   "metadata": {},
   "outputs": [
    {
     "name": "stdout",
     "output_type": "stream",
     "text": [
      "0\n",
      "1\n",
      "2\n",
      "3\n",
      "4\n",
      "5\n",
      "6\n"
     ]
    }
   ],
   "source": [
    "for i in range(10):\n",
    "    if(i==7):\n",
    "        break\n",
    "    print(i) \n",
    "else:\n",
    "    print(\"hello\")"
   ]
  },
  {
   "cell_type": "code",
   "execution_count": 5,
   "metadata": {},
   "outputs": [
    {
     "name": "stdout",
     "output_type": "stream",
     "text": [
      "1\n",
      "2\n",
      "3\n",
      "4\n"
     ]
    }
   ],
   "source": [
    "i=1\n",
    "while(i<=8):\n",
    "    if(i==5):\n",
    "        break\n",
    "    print(i)\n",
    "    i+=1"
   ]
  },
  {
   "cell_type": "code",
   "execution_count": 53,
   "metadata": {},
   "outputs": [
    {
     "name": "stdout",
     "output_type": "stream",
     "text": [
      "0\n",
      "1\n",
      "2\n",
      "3\n",
      "4\n",
      "6\n",
      "7\n",
      "8\n",
      "9\n",
      "10\n"
     ]
    }
   ],
   "source": [
    "for i in range(11):\n",
    "    if(i==5):\n",
    "        continue #skip 5\n",
    "    print(i)"
   ]
  },
  {
   "cell_type": "code",
   "execution_count": 7,
   "metadata": {},
   "outputs": [
    {
     "name": "stdout",
     "output_type": "stream",
     "text": [
      "hello\n"
     ]
    }
   ],
   "source": [
    "def fill():\n",
    "    pass\n",
    "\n",
    "print(\"hello\")"
   ]
  },
  {
   "cell_type": "markdown",
   "metadata": {},
   "source": [
    "# Functions\n",
    "\n",
    "    >we use functions to devide a main task into subtasks.\n",
    "    \n",
    "    >a subtask will be done by the function.\n",
    "    \n",
    "    >advantage:we can reuse the same code by calling correspoding function."
   ]
  },
  {
   "cell_type": "markdown",
   "metadata": {},
   "source": [
    "## *Main Function Prototypes*\n",
    "\n",
    "    1. has parameters,has return\n",
    "    2. has parameters,no return\n",
    "    3. no parameters,has return\n",
    "    4. no parameters,no return"
   ]
  },
  {
   "cell_type": "code",
   "execution_count": 1,
   "metadata": {},
   "outputs": [
    {
     "name": "stdout",
     "output_type": "stream",
     "text": [
      "10\n"
     ]
    }
   ],
   "source": [
    "def add(x,y):#has parameters,has return \n",
    "    sum=x+y\n",
    "    return sum\n",
    "print( add(3,7) )# the output value from function is sent to the same place we call the function\n"
   ]
  },
  {
   "cell_type": "code",
   "execution_count": 2,
   "metadata": {},
   "outputs": [
    {
     "name": "stdout",
     "output_type": "stream",
     "text": [
      "10\n"
     ]
    }
   ],
   "source": [
    "def add(x,y):#has parameters,no return\n",
    "    sum=x+y\n",
    "    print(sum)\n",
    "\n",
    "\n",
    "add(3,7)"
   ]
  },
  {
   "cell_type": "code",
   "execution_count": 3,
   "metadata": {},
   "outputs": [
    {
     "name": "stdout",
     "output_type": "stream",
     "text": [
      "10\n"
     ]
    }
   ],
   "source": [
    "def add():#no parameters,has return\n",
    "    sum=3+7\n",
    "    return sum\n",
    "print(add())"
   ]
  },
  {
   "cell_type": "code",
   "execution_count": 13,
   "metadata": {},
   "outputs": [
    {
     "name": "stdout",
     "output_type": "stream",
     "text": [
      "10\n"
     ]
    }
   ],
   "source": [
    "def add():#no parameters,no return\n",
    "    sum=3+7\n",
    "    print(sum)\n",
    "add()"
   ]
  },
  {
   "cell_type": "code",
   "execution_count": 14,
   "metadata": {},
   "outputs": [
    {
     "name": "stdout",
     "output_type": "stream",
     "text": [
      "10\n"
     ]
    }
   ],
   "source": [
    "def add():#no parameters,no return\n",
    "    sum=3+7\n",
    "    print(sum)\n",
    "add()"
   ]
  },
  {
   "cell_type": "code",
   "execution_count": 6,
   "metadata": {},
   "outputs": [
    {
     "name": "stdout",
     "output_type": "stream",
     "text": [
      "enter a number:123\n",
      "factorial: 12146304367025329675766243241881295855454217088483382315328918161829235892362167668831156960612640202170735835221294047782591091570411651472186029519906261646730733907419814952960000000000000000000000000000\n"
     ]
    }
   ],
   "source": [
    "def factorial(n):\n",
    "    fact=1\n",
    "    for i in range(1,n+1):\n",
    "        fact*=i# fact= fact*i\n",
    "    return fact   \n",
    "number=int(input(\"enter a number:\"))\n",
    "print(\"factorial:\",factorial(number) )"
   ]
  },
  {
   "cell_type": "code",
   "execution_count": 9,
   "metadata": {},
   "outputs": [
    {
     "name": "stdout",
     "output_type": "stream",
     "text": [
      "enter a name:covid\n",
      "enter a age:18\n",
      "enter gender:f\n",
      "covid\n"
     ]
    }
   ],
   "source": [
    "def inputDetails():\n",
    "    name=input(\"enter a name:\")\n",
    "    age=int(input(\"enter a age:\"))\n",
    "    gender=input(\"enter gender:\")\n",
    "    return name,age,gender\n",
    "x,y,z=inputDetails()\n",
    "print(x)"
   ]
  },
  {
   "cell_type": "code",
   "execution_count": 11,
   "metadata": {},
   "outputs": [
    {
     "name": "stdout",
     "output_type": "stream",
     "text": [
      "enter a name:c\n",
      "enter a age:2\n",
      "enter gender:f\n",
      "c\n"
     ]
    }
   ],
   "source": [
    "def inputDetails():\n",
    "    name=input(\"enter a name:\")\n",
    "    age=int(input(\"enter a age:\"))\n",
    "    gender=input(\"enter gender:\")\n",
    "    data={'name':name,'age':age,'gender':gender}\n",
    "    return data,12,\"udara\"\n",
    "#x,y,z=inputDetails()\n",
    "print(inputDetails()[0]['name'])"
   ]
  },
  {
   "cell_type": "code",
   "execution_count": 16,
   "metadata": {},
   "outputs": [
    {
     "name": "stdout",
     "output_type": "stream",
     "text": [
      "enter a number:3\n",
      "9\n"
     ]
    }
   ],
   "source": [
    "def power(x):\n",
    "    number=int(input(\"enter a number:\"))\n",
    "    answer=number**x\n",
    "    print(answer)\n",
    "    \n",
    "power(2)"
   ]
  },
  {
   "cell_type": "markdown",
   "metadata": {},
   "source": [
    "## 1. Global Variables\n",
    "    >visibility is for all functions\n",
    "    \n",
    "## 2. Local Variables\n",
    "    >visibility is for the particular block\n",
    "    \n",
    "    \n",
    "### Build up a software to find the total surface area & the total volume of cuboid."
   ]
  },
  {
   "cell_type": "code",
   "execution_count": null,
   "metadata": {},
   "outputs": [],
   "source": [
    "def A():\n",
    "    x=12  #local to A block\n",
    "    y???12\n",
    "    p????20\n",
    "    p=25???\n",
    "    if():\n",
    "        #x=23\n",
    "        x ???  12\n",
    "        y???12\n",
    "    \n",
    "def B():\n",
    "    x=23.0 #local to B block\n",
    "    print(y)  #12\n",
    "\n",
    "y=12  #global variable\n",
    "p=20  "
   ]
  },
  {
   "cell_type": "code",
   "execution_count": 15,
   "metadata": {},
   "outputs": [
    {
     "ename": "UnboundLocalError",
     "evalue": "local variable 'x' referenced before assignment",
     "output_type": "error",
     "traceback": [
      "\u001b[1;31m---------------------------------------------------------------------------\u001b[0m",
      "\u001b[1;31mUnboundLocalError\u001b[0m                         Traceback (most recent call last)",
      "\u001b[1;32m<ipython-input-15-193f0a1c2867>\u001b[0m in \u001b[0;36m<module>\u001b[1;34m\u001b[0m\n\u001b[0;32m      6\u001b[0m         \u001b[0mprint\u001b[0m\u001b[1;33m(\u001b[0m\u001b[0mx\u001b[0m\u001b[1;33m)\u001b[0m\u001b[1;33m\u001b[0m\u001b[1;33m\u001b[0m\u001b[0m\n\u001b[0;32m      7\u001b[0m     \u001b[0mprint\u001b[0m\u001b[1;33m(\u001b[0m\u001b[0mx\u001b[0m\u001b[1;33m)\u001b[0m\u001b[1;33m\u001b[0m\u001b[1;33m\u001b[0m\u001b[0m\n\u001b[1;32m----> 8\u001b[1;33m \u001b[0mA\u001b[0m\u001b[1;33m(\u001b[0m\u001b[1;33m)\u001b[0m\u001b[1;33m\u001b[0m\u001b[1;33m\u001b[0m\u001b[0m\n\u001b[0m",
      "\u001b[1;32m<ipython-input-15-193f0a1c2867>\u001b[0m in \u001b[0;36mA\u001b[1;34m()\u001b[0m\n\u001b[0;32m      1\u001b[0m \u001b[1;32mdef\u001b[0m \u001b[0mA\u001b[0m\u001b[1;33m(\u001b[0m\u001b[1;33m)\u001b[0m\u001b[1;33m:\u001b[0m\u001b[1;33m\u001b[0m\u001b[1;33m\u001b[0m\u001b[0m\n\u001b[0;32m      2\u001b[0m     \u001b[1;31m#x=12\u001b[0m\u001b[1;33m\u001b[0m\u001b[1;33m\u001b[0m\u001b[1;33m\u001b[0m\u001b[0m\n\u001b[1;32m----> 3\u001b[1;33m     \u001b[0mprint\u001b[0m\u001b[1;33m(\u001b[0m\u001b[0mx\u001b[0m\u001b[1;33m)\u001b[0m\u001b[1;33m\u001b[0m\u001b[1;33m\u001b[0m\u001b[0m\n\u001b[0m\u001b[0;32m      4\u001b[0m     \u001b[1;32mif\u001b[0m\u001b[1;33m(\u001b[0m\u001b[1;32mTrue\u001b[0m\u001b[1;33m)\u001b[0m\u001b[1;33m:\u001b[0m\u001b[1;31m#if and while blocks\u001b[0m\u001b[1;33m\u001b[0m\u001b[1;33m\u001b[0m\u001b[0m\n\u001b[0;32m      5\u001b[0m         \u001b[0mx\u001b[0m\u001b[1;33m=\u001b[0m\u001b[1;36m23\u001b[0m\u001b[1;33m\u001b[0m\u001b[1;33m\u001b[0m\u001b[0m\n",
      "\u001b[1;31mUnboundLocalError\u001b[0m: local variable 'x' referenced before assignment"
     ]
    }
   ],
   "source": [
    "def A():\n",
    "    #x=12\n",
    "    print(x)\n",
    "    if(True):#if and while blocks \n",
    "        x=23\n",
    "        print(x)\n",
    "    print(x)\n",
    "A()"
   ]
  },
  {
   "cell_type": "markdown",
   "metadata": {},
   "source": [
    "1. how to change a global variable in a local scope\n",
    "2. how to bring a local variable to a global scope by force\n",
    "\n"
   ]
  },
  {
   "cell_type": "code",
   "execution_count": 22,
   "metadata": {},
   "outputs": [
    {
     "name": "stdout",
     "output_type": "stream",
     "text": [
      "12\n",
      "24\n",
      "34\n",
      "24\n",
      "34\n"
     ]
    }
   ],
   "source": [
    "#global\n",
    "def A():\n",
    "    global  x,marks\n",
    "    x=24# a new local variable\n",
    "    marks=34\n",
    "    print(x)\n",
    "    print(marks)\n",
    "x=12\n",
    "print(x)\n",
    "A()\n",
    "print(x)\n",
    "print(marks)"
   ]
  },
  {
   "cell_type": "code",
   "execution_count": 23,
   "metadata": {},
   "outputs": [
    {
     "name": "stdout",
     "output_type": "stream",
     "text": [
      "enter a length:12\n",
      "enter a width:23\n",
      "enter a height:34\n",
      "area= 2932.0\n",
      "volume= 9384.0\n"
     ]
    }
   ],
   "source": [
    "def calcArea():\n",
    "    surfaceArea=2*((length*width)+(length*height)+(width*height))\n",
    "    return surfaceArea\n",
    "def inputDetails():\n",
    "    global length,width,height\n",
    "    \n",
    "    length=float(input(\"enter a length:\"))\n",
    "    width=float(input(\"enter a width:\"))\n",
    "    height=float(input(\"enter a height:\"))\n",
    "\n",
    "\n",
    "    \n",
    "def calcVolume():\n",
    "    volume=length*width*height\n",
    "    return volume\n",
    "    \n",
    "inputDetails()\n",
    "print(\"area=\",calcArea())\n",
    "print(\"volume=\",calcVolume())"
   ]
  },
  {
   "cell_type": "markdown",
   "metadata": {},
   "source": [
    "##### Exercise 7\n",
    "Build up a programme to evaluate the arithmetic mean and geometric mean of the integrs in a given range by the user.insert and design the follwing functions\n",
    "1. inputIntegers()\n",
    "2. geometric mean()\n",
    "3. arithmetic mean()\n"
   ]
  },
  {
   "cell_type": "code",
   "execution_count": null,
   "metadata": {},
   "outputs": [],
   "source": []
  },
  {
   "cell_type": "markdown",
   "metadata": {},
   "source": [
    "### A programm to find the class 1st student."
   ]
  },
  {
   "cell_type": "code",
   "execution_count": 20,
   "metadata": {},
   "outputs": [
    {
     "name": "stdout",
     "output_type": "stream",
     "text": [
      "subject 1:com.maths\n",
      "marks:94\n",
      "subject 2:physics\n",
      "marks:87\n",
      "subject 3:chemistry\n",
      "marks:70\n",
      "subject 1:com.maths\n",
      "marks:67\n",
      "subject 2:physics\n",
      "marks:54\n",
      "subject 3:ict\n",
      "marks:82\n",
      "subject 1:com.maths\n",
      "marks:34\n",
      "subject 2:physics\n",
      "marks:46\n",
      "subject 3:chemistry\n",
      "marks:65\n",
      "class first:Student 1 avarage: 83.66666666666667\n"
     ]
    }
   ],
   "source": [
    "def inputMarks():\n",
    "    global marks\n",
    "    marks=[]\n",
    "    for i in range (3):\n",
    "        marks.append({input(\"subject %d:\"%(i+1)):int(input('marks:'))})\n",
    "#[{'maths':23},{},{}]\n",
    "def calcAvg(marks):\n",
    "    #global avg\n",
    "    avg=0\n",
    "    for subject in marks:\n",
    "        for mark in subject.values():\n",
    "            avg=avg+mark\n",
    "    avg/=3\n",
    "    return avg\n",
    "\n",
    "def setForMany(count):\n",
    "    global students\n",
    "    students=[]\n",
    "    for i in range(count):\n",
    "        inputMarks()\n",
    "        students.append(marks.copy())\n",
    "        marks.clear()\n",
    "#  [  [{'maths':23},{},{}] , [{'maths':23},{},{}], [{'maths':23},{},{}],... ]\n",
    "        \n",
    "def setClassFirst():\n",
    "    Max=calcAvg(students[0])\n",
    "    for i in range(len(students)):\n",
    "        avg=calcAvg(students[i])\n",
    "        if (Max<=avg):\n",
    "            Max=avg\n",
    "            classFirst=i+1\n",
    "\n",
    "    return classFirst,Max\n",
    "     \n",
    "setForMany(3)\n",
    "classFirst,Max=setClassFirst()\n",
    "print(\"class first:Student\",classFirst,\"avarage:\",Max)"
   ]
  },
  {
   "cell_type": "markdown",
   "metadata": {},
   "source": [
    "## Types of Arguments & Parameters\n",
    "\n",
    "    1. Positional arguments\n",
    "    2. Keyword arguments\n",
    "    3. Default parameters\n",
    "    4. Variable length arguments"
   ]
  },
  {
   "cell_type": "markdown",
   "metadata": {},
   "source": [
    "### 1. *Positional Arguments*\n",
    "\n",
    "    we have to pass the arguments in parameters' order"
   ]
  },
  {
   "cell_type": "code",
   "execution_count": 25,
   "metadata": {},
   "outputs": [
    {
     "name": "stdout",
     "output_type": "stream",
     "text": [
      "name: 19\n",
      "age: tom\n"
     ]
    }
   ],
   "source": [
    "def Print(name,age):\n",
    "    print(\"name:\",name)\n",
    "    print(\"age:\",age)\n",
    "Print(19,'tom')"
   ]
  },
  {
   "cell_type": "code",
   "execution_count": 27,
   "metadata": {},
   "outputs": [
    {
     "ename": "TypeError",
     "evalue": "not all arguments converted during string formatting",
     "output_type": "error",
     "traceback": [
      "\u001b[1;31m---------------------------------------------------------------------------\u001b[0m",
      "\u001b[1;31mTypeError\u001b[0m                                 Traceback (most recent call last)",
      "\u001b[1;32m<ipython-input-27-70a524e821b5>\u001b[0m in \u001b[0;36m<module>\u001b[1;34m\u001b[0m\n\u001b[0;32m      1\u001b[0m \u001b[1;32mdef\u001b[0m \u001b[0mtest\u001b[0m\u001b[1;33m(\u001b[0m\u001b[0mx\u001b[0m\u001b[1;33m,\u001b[0m\u001b[0my\u001b[0m\u001b[1;33m)\u001b[0m\u001b[1;33m:\u001b[0m\u001b[1;33m\u001b[0m\u001b[1;33m\u001b[0m\u001b[0m\n\u001b[0;32m      2\u001b[0m     \u001b[0mprint\u001b[0m\u001b[1;33m(\u001b[0m\u001b[0mx\u001b[0m\u001b[1;33m%\u001b[0m\u001b[1;36m2\u001b[0m\u001b[1;33m,\u001b[0m\u001b[0my\u001b[0m\u001b[1;33m)\u001b[0m\u001b[1;33m\u001b[0m\u001b[1;33m\u001b[0m\u001b[0m\n\u001b[1;32m----> 3\u001b[1;33m \u001b[0mtest\u001b[0m\u001b[1;33m(\u001b[0m\u001b[1;34m\"udara\"\u001b[0m\u001b[1;33m,\u001b[0m\u001b[1;36m3\u001b[0m\u001b[1;33m)\u001b[0m\u001b[1;33m\u001b[0m\u001b[1;33m\u001b[0m\u001b[0m\n\u001b[0m",
      "\u001b[1;32m<ipython-input-27-70a524e821b5>\u001b[0m in \u001b[0;36mtest\u001b[1;34m(x, y)\u001b[0m\n\u001b[0;32m      1\u001b[0m \u001b[1;32mdef\u001b[0m \u001b[0mtest\u001b[0m\u001b[1;33m(\u001b[0m\u001b[0mx\u001b[0m\u001b[1;33m,\u001b[0m\u001b[0my\u001b[0m\u001b[1;33m)\u001b[0m\u001b[1;33m:\u001b[0m\u001b[1;33m\u001b[0m\u001b[1;33m\u001b[0m\u001b[0m\n\u001b[1;32m----> 2\u001b[1;33m     \u001b[0mprint\u001b[0m\u001b[1;33m(\u001b[0m\u001b[0mx\u001b[0m\u001b[1;33m%\u001b[0m\u001b[1;36m2\u001b[0m\u001b[1;33m,\u001b[0m\u001b[0my\u001b[0m\u001b[1;33m)\u001b[0m\u001b[1;33m\u001b[0m\u001b[1;33m\u001b[0m\u001b[0m\n\u001b[0m\u001b[0;32m      3\u001b[0m \u001b[0mtest\u001b[0m\u001b[1;33m(\u001b[0m\u001b[1;34m\"udara\"\u001b[0m\u001b[1;33m,\u001b[0m\u001b[1;36m3\u001b[0m\u001b[1;33m)\u001b[0m\u001b[1;33m\u001b[0m\u001b[1;33m\u001b[0m\u001b[0m\n",
      "\u001b[1;31mTypeError\u001b[0m: not all arguments converted during string formatting"
     ]
    }
   ],
   "source": [
    "def test(x,y):\n",
    "    print(x%2,y)\n",
    "test(\"udara\",3)"
   ]
  },
  {
   "cell_type": "markdown",
   "metadata": {},
   "source": [
    "### 2. *Keyword Arguments*\n",
    "\n",
    "    >no need to pass the arguments in order\n",
    "    \n",
    "    >but we should pass them with their parameter name\n",
    "    \n",
    "    >then they return them in parameter order"
   ]
  },
  {
   "cell_type": "code",
   "execution_count": 25,
   "metadata": {},
   "outputs": [
    {
     "name": "stdout",
     "output_type": "stream",
     "text": [
      "name: tom\n",
      "age: 19\n",
      "mobile: 234567890\n"
     ]
    }
   ],
   "source": [
    "def Print(name,age,mobile):\n",
    "    print(\"name:\",name)\n",
    "    print(\"age:\",age)\n",
    "    print(\"mobile:\",mobile)\n",
    "Print(mobile=234567890,name='tom',age=19)"
   ]
  },
  {
   "cell_type": "code",
   "execution_count": 26,
   "metadata": {},
   "outputs": [
    {
     "name": "stdout",
     "output_type": "stream",
     "text": [
      "name: tom\n",
      "age: 19\n",
      "mobile: 3456789\n"
     ]
    }
   ],
   "source": [
    "def Print(name,age,mobile):\n",
    "    print(\"name:\",name)\n",
    "    print(\"age:\",age)\n",
    "    print(\"mobile:\",mobile)\n",
    "    \n",
    "Print('tom',mobile=3456789,age=19)#when both are in, positional arguments are the 1st"
   ]
  },
  {
   "cell_type": "markdown",
   "metadata": {},
   "source": [
    "### 3. *Default Parameters*\n",
    "\n",
    "    >we can change the argument\n",
    "    \n",
    "    >we should give the changable argument with parameter name"
   ]
  },
  {
   "cell_type": "code",
   "execution_count": 31,
   "metadata": {},
   "outputs": [
    {
     "ename": "SyntaxError",
     "evalue": "non-default argument follows default argument (<ipython-input-31-cae1b1cdf65d>, line 1)",
     "output_type": "error",
     "traceback": [
      "\u001b[1;36m  File \u001b[1;32m\"<ipython-input-31-cae1b1cdf65d>\"\u001b[1;36m, line \u001b[1;32m1\u001b[0m\n\u001b[1;33m    def Print(name=\"udara\",age,mobile=23456785678):\u001b[0m\n\u001b[1;37m             ^\u001b[0m\n\u001b[1;31mSyntaxError\u001b[0m\u001b[1;31m:\u001b[0m non-default argument follows default argument\n"
     ]
    }
   ],
   "source": [
    "def Print(name,age=25,mobile=23456785678):\n",
    "    print(\"name:\",name)\n",
    "    print(\"age:\",age)\n",
    "    print(\"mobile:\",mobile)\n",
    "\n",
    "Print()#non-default arguments are the 1st"
   ]
  },
  {
   "cell_type": "markdown",
   "metadata": {},
   "source": [
    "### 4. *Variable length Arguments*\n",
    "\n",
    "    >when we handover a one argument,parameter takeover it\n",
    "    \n",
    "    >if we handover many arguments,parameter also takeover them"
   ]
  },
  {
   "cell_type": "code",
   "execution_count": 33,
   "metadata": {},
   "outputs": [
    {
     "name": "stdout",
     "output_type": "stream",
     "text": [
      "3\n",
      "4\n",
      "5\n",
      "6\n",
      "7\n"
     ]
    }
   ],
   "source": [
    "def Print(*x):#variable length tuple\n",
    "    for i in x:\n",
    "        print(i)\n",
    "Print(3,4,5,6,7)"
   ]
  },
  {
   "cell_type": "code",
   "execution_count": 31,
   "metadata": {},
   "outputs": [
    {
     "name": "stdout",
     "output_type": "stream",
     "text": [
      "2\n",
      "3\n",
      "4\n"
     ]
    }
   ],
   "source": [
    "def Print(*x):\n",
    "    for i in x:\n",
    "        print(i)\n",
    "Print(2,3,4)"
   ]
  },
  {
   "cell_type": "markdown",
   "metadata": {},
   "source": [
    "**more examples and exercises will come in weekly tutorials**"
   ]
  },
  {
   "cell_type": "markdown",
   "metadata": {},
   "source": [
    "## Lambda Functions\n",
    "\n",
    "    >a small anonymous function\n",
    "    \n",
    "    >the parameters will be processed according to the rule that the lambda function is about\n",
    "    \n",
    "    >everytime variable name is a function object\n",
    "    \n",
    "    >we should give all commands in one line"
   ]
  },
  {
   "cell_type": "code",
   "execution_count": null,
   "metadata": {},
   "outputs": [],
   "source": [
    "def add(x,y):\n",
    "    sum=x+y\n",
    "    return sum\n",
    "\n",
    "add(2,3)\n",
    "\n",
    "\n",
    "#x=5"
   ]
  },
  {
   "cell_type": "code",
   "execution_count": 2,
   "metadata": {},
   "outputs": [
    {
     "name": "stdout",
     "output_type": "stream",
     "text": [
      "<function <lambda> at 0x000000000892FB88>\n"
     ]
    }
   ],
   "source": [
    "rule1=lambda x,y:x+y\n",
    "type(rule1) #variable name is a function object\n",
    "print(rule1)"
   ]
  },
  {
   "cell_type": "code",
   "execution_count": 34,
   "metadata": {},
   "outputs": [
    {
     "name": "stdout",
     "output_type": "stream",
     "text": [
      "10\n"
     ]
    }
   ],
   "source": [
    "print(rule1(4,6))"
   ]
  },
  {
   "cell_type": "code",
   "execution_count": 35,
   "metadata": {},
   "outputs": [
    {
     "name": "stdout",
     "output_type": "stream",
     "text": [
      "16\n"
     ]
    }
   ],
   "source": [
    "print(rule1(rule1(4,5),7))"
   ]
  },
  {
   "cell_type": "code",
   "execution_count": 36,
   "metadata": {},
   "outputs": [
    {
     "name": "stdout",
     "output_type": "stream",
     "text": [
      "6\n"
     ]
    }
   ],
   "source": [
    "rule2=lambda x:x-3\n",
    "print(rule2(9))"
   ]
  },
  {
   "cell_type": "code",
   "execution_count": 37,
   "metadata": {},
   "outputs": [
    {
     "name": "stdout",
     "output_type": "stream",
     "text": [
      "21\n"
     ]
    }
   ],
   "source": [
    "rule3=lambda a,b:a*b\n",
    "print(rule3(3,7))"
   ]
  },
  {
   "cell_type": "code",
   "execution_count": 38,
   "metadata": {},
   "outputs": [
    {
     "name": "stdout",
     "output_type": "stream",
     "text": [
      "10\n"
     ]
    }
   ],
   "source": [
    "def myFunc(n):\n",
    "    return lambda x:x*n\n",
    "mydoubler=myFunc(5)\n",
    "print(mydoubler(2))"
   ]
  },
  {
   "cell_type": "code",
   "execution_count": 39,
   "metadata": {},
   "outputs": [
    {
     "name": "stdout",
     "output_type": "stream",
     "text": [
      "16\n",
      "12\n"
     ]
    }
   ],
   "source": [
    "def myFunc(n):\n",
    "    return lambda x:x*n\n",
    "mydoubler=myFunc(8)\n",
    "mytripler=myFunc(4)\n",
    "print(mydoubler(2))\n",
    "print(mytripler(3))"
   ]
  },
  {
   "cell_type": "code",
   "execution_count": 40,
   "metadata": {},
   "outputs": [
    {
     "name": "stdout",
     "output_type": "stream",
     "text": [
      "answer from the rule: 8\n"
     ]
    },
    {
     "data": {
      "text/plain": [
       "256"
      ]
     },
     "execution_count": 40,
     "metadata": {},
     "output_type": "execute_result"
    }
   ],
   "source": [
    "def Process(rule,data):\n",
    "    answer=rule(data)\n",
    "    print('answer from the rule:',answer)\n",
    "    return lambda x:x**answer\n",
    "squarer=lambda numbers:numbers[0]**numbers[1]\n",
    "rule2=Process(squarer,[2,3])\n",
    "rule2(2)"
   ]
  },
  {
   "cell_type": "code",
   "execution_count": 5,
   "metadata": {},
   "outputs": [
    {
     "name": "stdout",
     "output_type": "stream",
     "text": [
      "piece size: 10.0\n",
      "mother: 5.0\n"
     ]
    }
   ],
   "source": [
    "def cutCake(rule,cake):\n",
    "    pieceSize=rule(cake)\n",
    "    print(\"piece size:\",pieceSize)\n",
    "    return lambda rate:pieceSize*rate\n",
    "cutTo3=lambda cake:cake/3\n",
    "toMother=cutCake(cutTo3,30)\n",
    "print(\"mother:\",toMother(0.5) )"
   ]
  },
  {
   "cell_type": "markdown",
   "metadata": {},
   "source": [
    "**more examples and exercises will come in weekly tutorials**"
   ]
  },
  {
   "cell_type": "markdown",
   "metadata": {},
   "source": [
    "## Lambdas in filter()\n",
    "\n",
    "    select some particular elements from a sequence of elements"
   ]
  },
  {
   "cell_type": "code",
   "execution_count": 8,
   "metadata": {},
   "outputs": [
    {
     "data": {
      "text/plain": [
       "<filter at 0x8b2e108>"
      ]
     },
     "execution_count": 8,
     "metadata": {},
     "output_type": "execute_result"
    }
   ],
   "source": [
    "list1=[10,3,4,2,5,7,8,9]\n",
    "result=filter(lambda x:x>2,list1)# lambda function runs on each element of the list\n",
    "#result\n",
    "print(list(result))"
   ]
  },
  {
   "cell_type": "markdown",
   "metadata": {},
   "source": [
    "## Lambdas in map()\n",
    "\n",
    "    apply a particular operation to every elements in a sequence"
   ]
  },
  {
   "cell_type": "code",
   "execution_count": 9,
   "metadata": {},
   "outputs": [
    {
     "name": "stdout",
     "output_type": "stream",
     "text": [
      "[20, 6, 8, 4, 10, 14, 16, 18]\n"
     ]
    }
   ],
   "source": [
    "list1=[10,3,4,2,5,7,8,9]\n",
    "result=map(lambda x:x*2,list1)\n",
    "print(list(result))"
   ]
  },
  {
   "cell_type": "markdown",
   "metadata": {},
   "source": [
    "## Lambdas in reduce()\n",
    "\n",
    "    like map(),but differs from working\n",
    "    \n",
    "    steps;\n",
    "        1. performed the given operation on the first two elements in a sequence\n",
    "        2. save this result\n",
    "        3. performed the operation with saved result & next element\n",
    "        4. repeat until no more elements are left"
   ]
  },
  {
   "cell_type": "code",
   "execution_count": 51,
   "metadata": {},
   "outputs": [
    {
     "name": "stdout",
     "output_type": "stream",
     "text": [
      "21\n"
     ]
    }
   ],
   "source": [
    "from functools import reduce \n",
    "list1=[2,3,4,5,6,1,0]\n",
    "result=reduce(lambda x,y:x+y,list1)\n",
    "print(result)"
   ]
  },
  {
   "cell_type": "markdown",
   "metadata": {},
   "source": [
    "1. procedural programming-code is made explaining the procedure\n",
    "\n",
    "2. Object oriented programming-modle each thing and tool we need for the process\n",
    "3. component oriented programming\n"
   ]
  },
  {
   "cell_type": "markdown",
   "metadata": {},
   "source": []
  },
  {
   "cell_type": "markdown",
   "metadata": {},
   "source": [
    "## Object Oriented Programming(OOP)\n",
    "\n",
    "    >a programming paradigm which provides a means to structuring programms\n",
    "    \n",
    "    >so that properties & behaviours are bundled into individual objects\n",
    "    \n",
    "    1. CLASS:\n",
    "        class are used to create new user-defined sturctures that contains information about something\n",
    "        \n",
    "    2. OBJECTS(INSTANCES):\n",
    "        a copy of the class that contains variables\n",
    "        \n",
    "        >>Instantation:\n",
    "          create a copy of the class in heap.\n",
    "        >>Declaration:\n",
    "          give a name for created copy.\n",
    "        >>Initialization:\n",
    "          fill the copy that we created."
   ]
  },
  {
   "cell_type": "markdown",
   "metadata": {},
   "source": [
    "### Constructor\n",
    "\n",
    "    >> creates the object at the heap\n",
    "    \n",
    "    >>if we don't add a constructor python automatically add it\n",
    "      (default constructor-no need to add parameters)"
   ]
  },
  {
   "cell_type": "code",
   "execution_count": 54,
   "metadata": {},
   "outputs": [
    {
     "name": "stdout",
     "output_type": "stream",
     "text": [
      "baw baw baw owwwwww\n",
      "i am alpha .i am a retriever .bow bow\n"
     ]
    }
   ],
   "source": [
    "class Dog:\n",
    "    def fill(self,name,kind):\n",
    "        self.name=name\n",
    "        self.kind=kind\n",
    "    def bark(self):\n",
    "        print(\"baw baw baw owwwwww\")\n",
    "        print(\"i am\",self.name,\".i am a\",self.kind,\".bow bow\")\n",
    "        \n",
    "d1=Dog()# calling constructor\n",
    "d1.fill(\"alpha\",\"retriever\")\n",
    "d1.bark()"
   ]
  },
  {
   "cell_type": "code",
   "execution_count": 18,
   "metadata": {},
   "outputs": [
    {
     "ename": "NameError",
     "evalue": "name 'name' is not defined",
     "output_type": "error",
     "traceback": [
      "\u001b[1;31m---------------------------------------------------------------------------\u001b[0m",
      "\u001b[1;31mNameError\u001b[0m                                 Traceback (most recent call last)",
      "\u001b[1;32m<ipython-input-18-3eac309947c2>\u001b[0m in \u001b[0;36m<module>\u001b[1;34m\u001b[0m\n\u001b[1;32m----> 1\u001b[1;33m \u001b[1;32mclass\u001b[0m \u001b[0mPerson\u001b[0m\u001b[1;33m:\u001b[0m\u001b[1;33m\u001b[0m\u001b[1;33m\u001b[0m\u001b[0m\n\u001b[0m\u001b[0;32m      2\u001b[0m     \u001b[0mcountry\u001b[0m\u001b[1;33m=\u001b[0m\u001b[1;34m\"sri lanka\"\u001b[0m\u001b[1;33m\u001b[0m\u001b[1;33m\u001b[0m\u001b[0m\n\u001b[0;32m      3\u001b[0m     \u001b[0mname\u001b[0m\u001b[1;33m\u001b[0m\u001b[1;33m\u001b[0m\u001b[0m\n\u001b[0;32m      4\u001b[0m     \u001b[1;31m#def person()\u001b[0m\u001b[1;33m\u001b[0m\u001b[1;33m\u001b[0m\u001b[1;33m\u001b[0m\u001b[0m\n\u001b[0;32m      5\u001b[0m     \u001b[1;32mdef\u001b[0m \u001b[0mtalk\u001b[0m\u001b[1;33m(\u001b[0m\u001b[0mself\u001b[0m\u001b[1;33m,\u001b[0m\u001b[0mname\u001b[0m\u001b[1;33m)\u001b[0m\u001b[1;33m:\u001b[0m\u001b[1;33m\u001b[0m\u001b[1;33m\u001b[0m\u001b[0m\n",
      "\u001b[1;32m<ipython-input-18-3eac309947c2>\u001b[0m in \u001b[0;36mPerson\u001b[1;34m()\u001b[0m\n\u001b[0;32m      1\u001b[0m \u001b[1;32mclass\u001b[0m \u001b[0mPerson\u001b[0m\u001b[1;33m:\u001b[0m\u001b[1;33m\u001b[0m\u001b[1;33m\u001b[0m\u001b[0m\n\u001b[0;32m      2\u001b[0m     \u001b[0mcountry\u001b[0m\u001b[1;33m=\u001b[0m\u001b[1;34m\"sri lanka\"\u001b[0m\u001b[1;33m\u001b[0m\u001b[1;33m\u001b[0m\u001b[0m\n\u001b[1;32m----> 3\u001b[1;33m     \u001b[0mname\u001b[0m\u001b[1;33m\u001b[0m\u001b[1;33m\u001b[0m\u001b[0m\n\u001b[0m\u001b[0;32m      4\u001b[0m     \u001b[1;31m#def person()\u001b[0m\u001b[1;33m\u001b[0m\u001b[1;33m\u001b[0m\u001b[1;33m\u001b[0m\u001b[0m\n\u001b[0;32m      5\u001b[0m     \u001b[1;32mdef\u001b[0m \u001b[0mtalk\u001b[0m\u001b[1;33m(\u001b[0m\u001b[0mself\u001b[0m\u001b[1;33m,\u001b[0m\u001b[0mname\u001b[0m\u001b[1;33m)\u001b[0m\u001b[1;33m:\u001b[0m\u001b[1;33m\u001b[0m\u001b[1;33m\u001b[0m\u001b[0m\n",
      "\u001b[1;31mNameError\u001b[0m: name 'name' is not defined"
     ]
    }
   ],
   "source": [
    "class Person:\n",
    "    country=\"sri lanka\"\n",
    "    \n",
    "    #def person()\n",
    "    def talk(self,name):\n",
    "        self.name=name\n",
    "        print(\"name:\",name)\n",
    "    def run(self):\n",
    "        self.age=25\n",
    "        print(self.name,\" is running\")\n",
    "#object instantiation-making an object in the ram(heap)\n",
    "p1=Person()\n",
    "p2=Person()\n",
    "#type(p1)\n",
    "#object declaration\n",
    "#object initialization\n",
    "p1.country=\"russia\"\n",
    "print(p2.country)\n",
    "p1.talk(\"Udara\")\n",
    "p1.run()\n",
    "p1.age"
   ]
  },
  {
   "cell_type": "code",
   "execution_count": 19,
   "metadata": {},
   "outputs": [
    {
     "name": "stdout",
     "output_type": "stream",
     "text": [
      "hello i am dinal .i am 19 years old.\n"
     ]
    }
   ],
   "source": [
    "class Student:\n",
    "    \n",
    "    def fill(self,name,age,gender):\n",
    "        self.name=name\n",
    "        self.age=age\n",
    "        self.gender=gender\n",
    "    def talk(self):\n",
    "        print(\"hello i am\",self.name,\".i am\",self.age,\"years old.\")\n",
    "\n",
    "s1=Student()\n",
    "s1.fill('dinal',19,'male')\n",
    "s1.talk()"
   ]
  },
  {
   "cell_type": "code",
   "execution_count": 57,
   "metadata": {},
   "outputs": [
    {
     "name": "stdout",
     "output_type": "stream",
     "text": [
      "surface area= 52\n",
      "total volume= 24\n"
     ]
    }
   ],
   "source": [
    "class Cuboid:\n",
    "    def fill(self,length,width,height):\n",
    "        self.length=length\n",
    "        self.width=width\n",
    "        self.height=height\n",
    "    def calcArea(self):\n",
    "        print(\"surface area=\",2*((self.length*self.width)+(self.length*self.height)+(self.width*self.height)))\n",
    "    def calcVolume(self):\n",
    "        print(\"total volume=\",self.length*self.height*self.width)\n",
    "\n",
    "c1=Cuboid()\n",
    "c1.fill(2,3,4)\n",
    "c1.calcArea()\n",
    "c1.calcVolume()"
   ]
  },
  {
   "cell_type": "code",
   "execution_count": 20,
   "metadata": {},
   "outputs": [
    {
     "name": "stdout",
     "output_type": "stream",
     "text": [
      "enter length,width,height:12 13 14\n",
      "enter length,width,height:23 34 35\n",
      "enter length,width,height:22 33 44\n",
      "[<__main__.Cuboid object at 0x00000000051DB7C8>, <__main__.Cuboid object at 0x0000000002991D48>, <__main__.Cuboid object at 0x00000000051DB588>]\n",
      "surface area= 1012.0 total volume= 2184.0\n",
      "surface area= 5554.0 total volume= 27370.0\n",
      "surface area= 6292.0 total volume= 31944.0\n"
     ]
    }
   ],
   "source": [
    "class Cuboid:\n",
    "    def fill(self,length,width,height):\n",
    "        self.length=length\n",
    "        self.width=width\n",
    "        self.height=height\n",
    "    def calcArea(self):\n",
    "        area=2*((self.length*self.width)+(self.length*self.height)+(self.width*self.height))\n",
    "        return area\n",
    "    def calcVolume(self):\n",
    "        volume=self.length*self.height*self.width\n",
    "        return volume \n",
    "\n",
    "inputs=[input(\"enter length,width,height:\") for i in range(3)]\n",
    "cuboids=[]\n",
    "for Set in inputs:\n",
    "    rec=[]\n",
    "    for x in Set.split():\n",
    "        x=float(x)\n",
    "        rec.append(x)\n",
    "    c1=Cuboid()\n",
    "    c1.fill(rec[0],rec[1],rec[2])\n",
    "    cuboids.append(c1)\n",
    "#print(cuboids)\n",
    "for cuboid in cuboids:\n",
    "    print('surface area=',cuboid.calcArea(),'total volume=',cuboid.calcVolume())"
   ]
  },
  {
   "cell_type": "code",
   "execution_count": 21,
   "metadata": {},
   "outputs": [
    {
     "name": "stdout",
     "output_type": "stream",
     "text": [
      "enter number of people:2\n",
      "enter details for person 1 :\n",
      "enter your name:tom\n",
      "enter your age:16\n",
      "enter your gender:male\n",
      "enter details for person 2 :\n",
      "enter your name:covid\n",
      "enter your age:19\n",
      "enter your gender:female\n",
      "tom 16 male\n",
      "covid 19 female\n"
     ]
    }
   ],
   "source": [
    "class Person:\n",
    "    def fill(self,name,age,gender):\n",
    "        self.name=name\n",
    "        self.age=age\n",
    "        self.gender=gender\n",
    "    def Print(self):\n",
    "        print(self.name,self.age,self.gender)\n",
    "        \n",
    "number=int(input(\"enter number of people:\"))\n",
    "dataNeed=[\"name\",\"age\",\"gender\"]\n",
    "people=[]\n",
    "for i in range(number):\n",
    "    print(\"enter details for person %d :\"%(i+1))\n",
    "    data=[input(\"enter your \"+dataNeed[i]+\":\") for i in range(3)]\n",
    "    p1=Person()\n",
    "    p1.fill(data[0],data[1],data[2])\n",
    "    people.append(p1)\n",
    "for p in people:\n",
    "    p.Print()"
   ]
  },
  {
   "cell_type": "markdown",
   "metadata": {},
   "source": [
    "## Parameterized Constructor\n",
    "\n",
    "    Syntax:\n",
    "        def __init__(self,parameters):"
   ]
  },
  {
   "cell_type": "code",
   "execution_count": 3,
   "metadata": {},
   "outputs": [
    {
     "name": "stdout",
     "output_type": "stream",
     "text": [
      "hello\n"
     ]
    }
   ],
   "source": [
    "class Person:\n",
    "    def __init__(self): #default constructor\n",
    "        print(\"hello\")\n",
    "p1=Person()"
   ]
  },
  {
   "cell_type": "code",
   "execution_count": 4,
   "metadata": {},
   "outputs": [
    {
     "name": "stdout",
     "output_type": "stream",
     "text": [
      "hello i am roy .i am 19 years old.\n"
     ]
    }
   ],
   "source": [
    "class Person:\n",
    "    def __init__(self):# last constructor is executed\n",
    "        print(\"hello\")\n",
    "    def __init__(self,name,age): #parameterized constructor\n",
    "        self.name=name\n",
    "        self.age=age\n",
    "    def talk(self):\n",
    "        print(\"hello i am\",self.name,\".i am\",self.age,\"years old.\")\n",
    "p1=Person(\"roy\",19)\n",
    "p1.talk()"
   ]
  },
  {
   "cell_type": "code",
   "execution_count": 5,
   "metadata": {},
   "outputs": [
    {
     "name": "stdout",
     "output_type": "stream",
     "text": [
      "hello i am dinal .i am in grade 10\n"
     ]
    }
   ],
   "source": [
    "class Student:\n",
    "    def __init__(self,name,grade):\n",
    "        self.name=name\n",
    "        self.grade=grade\n",
    "    def setName(self,name):#arguments can be changed easily\n",
    "        self.name=name\n",
    "    def talk(self):\n",
    "        print(\"hello i am\",self.name,\".i am in grade\",self.grade)\n",
    "s1=Student(\"mahesh\",10)\n",
    "s1.setName(\"dinal\")\n",
    "s1.talk()"
   ]
  },
  {
   "cell_type": "markdown",
   "metadata": {},
   "source": [
    "## Object Object Relatonships\n",
    "\n",
    "    1. Aggregation -(has a)\n",
    "    2. Inheritance -(is a)"
   ]
  },
  {
   "cell_type": "markdown",
   "metadata": {},
   "source": [
    "### 1. *Aggregation*"
   ]
  },
  {
   "cell_type": "code",
   "execution_count": 8,
   "metadata": {},
   "outputs": [
    {
     "name": "stdout",
     "output_type": "stream",
     "text": [
      "hello i am a black toyota car .my owner is mahesh\n"
     ]
    }
   ],
   "source": [
    "class Person:\n",
    "    def __init__(self,name,age):\n",
    "        self.name=name\n",
    "        self.age=age\n",
    "p1=Person(\"mahesh\",19)\n",
    "\n",
    "class Vehicle:\n",
    "    def __init__(self,Type,brand,color,owner):\n",
    "        self.Type=Type\n",
    "        self.brand=brand\n",
    "        self.color=color\n",
    "        self.owner=owner\n",
    "    def talk(self):\n",
    "        print(\"hello i am a\",self.color,self.brand,self.Type,\".my owner is\",self.owner.name)\n",
    "v1=Vehicle('car','toyota','black',p1)\n",
    "v1.talk()"
   ]
  },
  {
   "cell_type": "markdown",
   "metadata": {},
   "source": [
    "### 2. *Inheritance*\n",
    "\n",
    "    there is a father class & a child class\n",
    "    \n",
    "    when we make a object by a child class,each one have a father object\n",
    "    \n",
    "    but when we make a object by a father class,it haven't a child class"
   ]
  },
  {
   "cell_type": "code",
   "execution_count": 10,
   "metadata": {},
   "outputs": [
    {
     "name": "stdout",
     "output_type": "stream",
     "text": [
      "x= 3\n"
     ]
    }
   ],
   "source": [
    "class A:\n",
    "    def __init__(self,x):\n",
    "        self.x=x\n",
    "    def Print(self):\n",
    "        print(\"x=\",self.x)\n",
    "class B(A):#B class is the child class of A father class\n",
    "    def __init__(self,x,y,z):\n",
    "        A.__init__(self,x) #(or super().__init__(self))\n",
    "        self.y=y\n",
    "        self.z=z\n",
    "a1=A(10)\n",
    "b1=B(3,4,5)\n",
    "b1.Print()"
   ]
  },
  {
   "cell_type": "markdown",
   "metadata": {},
   "source": [
    "### Code Explanation\n",
    "\n",
    "    >a1 isn't the father object of b1\n",
    "    \n",
    "    >but b1 has a father object at the heap\n",
    "    \n",
    "    >b1 is included by all the commands in A class & B class"
   ]
  },
  {
   "cell_type": "markdown",
   "metadata": {},
   "source": [
    "## Example:"
   ]
  },
  {
   "cell_type": "code",
   "execution_count": 13,
   "metadata": {},
   "outputs": [
    {
     "name": "stdout",
     "output_type": "stream",
     "text": [
      "name: dinal age: 19 gender: male\n",
      "address: 102 Yakkala Gampaha\n",
      "company: ABCD salary: 63000\n"
     ]
    }
   ],
   "source": [
    "class Address:\n",
    "    def __init__(self,homeNo,village,town):\n",
    "        self.homeNo=homeNo\n",
    "        self.village=village\n",
    "        self.town=town\n",
    "    def Print(self):\n",
    "        print(\"address:\",self.homeNo,self.village,self.town)\n",
    "class Person:\n",
    "    def __init__(self,name,age,gender,address):\n",
    "        self.name=name\n",
    "        self.age=age\n",
    "        self.gender=gender\n",
    "        self.address=address\n",
    "    def Print(self):\n",
    "        print(\"name:\",self.name,\"age:\",self.age,\"gender:\",self.gender)\n",
    "        self.address.Print() #aggregation\n",
    "class Employee(Person):\n",
    "    def __init__(self,name,age,gender,address,company,salary):\n",
    "        super().__init__(name,age,gender,address) #inheritance\n",
    "        self.company=company\n",
    "        self.salary=salary\n",
    "    def Print(self):\n",
    "        super().Print()\n",
    "        print(\"company:\",self.company,\"salary:\",self.salary)\n",
    "a1=Address(102,\"Yakkala\",\"Gampaha\")\n",
    "e1=Employee(\"dinal\",19,\"male\",a1,\"ABCD\",63000)\n",
    "e1.Print()"
   ]
  },
  {
   "cell_type": "markdown",
   "metadata": {},
   "source": [
    "## Python In-built class functions\n",
    "\n",
    "    1. getattr\n",
    "        >access the attribute of the object\n",
    "        \n",
    "        >syntax: getattr(object,name)\n",
    "        \n",
    "    2. setattr\n",
    "        >set a particular value to the specific attribute of an object\n",
    "        \n",
    "        >syntax: setattr(object,name,value)\n",
    "        \n",
    "    3. delattr\n",
    "        >delete a specific attribute\n",
    "        \n",
    "        >syntax: delattr(object,name)\n",
    "        \n",
    "    4. hasattr\n",
    "        >returns True if the object contains some specific attribute\n",
    "        \n",
    "        >syntax: hasattr(object,name)"
   ]
  },
  {
   "cell_type": "code",
   "execution_count": 16,
   "metadata": {},
   "outputs": [
    {
     "name": "stdout",
     "output_type": "stream",
     "text": [
      "dinal\n",
      "28\n",
      "True\n",
      "False\n"
     ]
    }
   ],
   "source": [
    "class Person:\n",
    "    def __init__(self,name,age,gender):\n",
    "        self.name=name\n",
    "        self.age=age\n",
    "        self.gender=gender\n",
    "p1=Person('dinal',19,'male')\n",
    "\n",
    "print(getattr(p1,'name')) #prints the attribute name of p1\n",
    "\n",
    "setattr(p1,'age',28) #reset the value of attribute age to 28\n",
    "\n",
    "print(getattr(p1,'age')) #prints the modified value of age\n",
    "\n",
    "print(hasattr(p1,'gender')) #prints True if p1 has attribute gender\n",
    "\n",
    "delattr(p1,'age') #delete the attribute age\n",
    "\n",
    "print(hasattr(p1,'age')) #check whether attribute age is deleted"
   ]
  },
  {
   "cell_type": "markdown",
   "metadata": {},
   "source": [
    "## Python in-built class attributes"
   ]
  },
  {
   "cell_type": "code",
   "execution_count": 18,
   "metadata": {},
   "outputs": [
    {
     "name": "stdout",
     "output_type": "stream",
     "text": [
      "this is a Student class\n"
     ]
    }
   ],
   "source": [
    "class Student:\n",
    "    'this is a Student class'\n",
    "    def __init__(self,name,age,mobile):\n",
    "        self.name=name\n",
    "        self.age=age\n",
    "        self.mobile=mobile\n",
    "s1=Student('mahesh',19,54637829)\n",
    "\n",
    "print(Student.__doc__ )#returns a documantary of the class"
   ]
  },
  {
   "cell_type": "code",
   "execution_count": 19,
   "metadata": {},
   "outputs": [
    {
     "name": "stdout",
     "output_type": "stream",
     "text": [
      "{'__module__': '__main__', '__doc__': 'this is a Student class', '__init__': <function Student.__init__ at 0x000000F9A955F558>, '__dict__': <attribute '__dict__' of 'Student' objects>, '__weakref__': <attribute '__weakref__' of 'Student' objects>}\n"
     ]
    }
   ],
   "source": [
    "print(Student.__dict__ )#returns a dictionary which contains information about the class namespace"
   ]
  },
  {
   "cell_type": "code",
   "execution_count": 20,
   "metadata": {},
   "outputs": [
    {
     "name": "stdout",
     "output_type": "stream",
     "text": [
      "{'name': 'mahesh', 'age': 19, 'mobile': 54637829}\n"
     ]
    }
   ],
   "source": [
    "print(s1.__dict__)"
   ]
  },
  {
   "cell_type": "code",
   "execution_count": 23,
   "metadata": {},
   "outputs": [
    {
     "name": "stdout",
     "output_type": "stream",
     "text": [
      "Student\n"
     ]
    }
   ],
   "source": [
    "print(Student.__name__) #returns the class name"
   ]
  },
  {
   "cell_type": "code",
   "execution_count": 22,
   "metadata": {},
   "outputs": [
    {
     "name": "stdout",
     "output_type": "stream",
     "text": [
      "__main__\n"
     ]
    }
   ],
   "source": [
    "print(Student.__module__) #returns the module"
   ]
  },
  {
   "cell_type": "code",
   "execution_count": 24,
   "metadata": {},
   "outputs": [
    {
     "name": "stdout",
     "output_type": "stream",
     "text": [
      "<class 'object'>\n"
     ]
    }
   ],
   "source": [
    "print(Student.__base__) #if the class has a father class returns its' name"
   ]
  },
  {
   "cell_type": "markdown",
   "metadata": {},
   "source": [
    "### The issubclass(sub,sup) method"
   ]
  },
  {
   "cell_type": "code",
   "execution_count": 26,
   "metadata": {},
   "outputs": [
    {
     "data": {
      "text/plain": [
       "True"
      ]
     },
     "execution_count": 26,
     "metadata": {},
     "output_type": "execute_result"
    }
   ],
   "source": [
    "class A:\n",
    "    pass\n",
    "class B(A):\n",
    "    pass\n",
    "b=B()\n",
    "issubclass(B,A) #check whether the given 1st class is a sub class of 2nd class"
   ]
  },
  {
   "cell_type": "markdown",
   "metadata": {},
   "source": [
    "### The isinstance(obj,class) method"
   ]
  },
  {
   "cell_type": "code",
   "execution_count": 28,
   "metadata": {},
   "outputs": [
    {
     "data": {
      "text/plain": [
       "True"
      ]
     },
     "execution_count": 28,
     "metadata": {},
     "output_type": "execute_result"
    }
   ],
   "source": [
    "isinstance(b,B) #check whether the 1st one is the instance of 2nd one"
   ]
  },
  {
   "cell_type": "code",
   "execution_count": 29,
   "metadata": {},
   "outputs": [
    {
     "data": {
      "text/plain": [
       "True"
      ]
     },
     "execution_count": 29,
     "metadata": {},
     "output_type": "execute_result"
    }
   ],
   "source": [
    "isinstance(b,A)"
   ]
  },
  {
   "cell_type": "markdown",
   "metadata": {},
   "source": [
    "### Data Abstraction\n",
    "\n",
    "    >>data hiding(syntax:__variable)"
   ]
  },
  {
   "cell_type": "code",
   "execution_count": 32,
   "metadata": {},
   "outputs": [
    {
     "name": "stdout",
     "output_type": "stream",
     "text": [
      "x= 15\n"
     ]
    },
    {
     "ename": "AttributeError",
     "evalue": "type object 'A' has no attribute '__x'",
     "output_type": "error",
     "traceback": [
      "\u001b[1;31m---------------------------------------------------------------------------\u001b[0m",
      "\u001b[1;31mAttributeError\u001b[0m                            Traceback (most recent call last)",
      "\u001b[1;32m<ipython-input-32-601cac5e8de9>\u001b[0m in \u001b[0;36m<module>\u001b[1;34m\u001b[0m\n\u001b[0;32m      7\u001b[0m \u001b[0ma\u001b[0m\u001b[1;33m=\u001b[0m\u001b[0mA\u001b[0m\u001b[1;33m(\u001b[0m\u001b[1;33m)\u001b[0m\u001b[1;33m\u001b[0m\u001b[1;33m\u001b[0m\u001b[0m\n\u001b[0;32m      8\u001b[0m \u001b[0ma\u001b[0m\u001b[1;33m.\u001b[0m\u001b[0mPrint\u001b[0m\u001b[1;33m(\u001b[0m\u001b[1;33m)\u001b[0m\u001b[1;33m\u001b[0m\u001b[1;33m\u001b[0m\u001b[0m\n\u001b[1;32m----> 9\u001b[1;33m \u001b[0mA\u001b[0m\u001b[1;33m.\u001b[0m\u001b[0m__x\u001b[0m\u001b[1;31m#now the x is hidden at the A class,so we can call x only at the A class\u001b[0m\u001b[1;33m\u001b[0m\u001b[1;33m\u001b[0m\u001b[0m\n\u001b[0m",
      "\u001b[1;31mAttributeError\u001b[0m: type object 'A' has no attribute '__x'"
     ]
    }
   ],
   "source": [
    "class A:\n",
    "    __x=15\n",
    "    def Print(self):\n",
    "        print('x=',A.__x)\n",
    "class B:\n",
    "    pass \n",
    "a=A()\n",
    "a.Print()\n",
    "A.__x#now the x is hidden at the A class,so we can call x only at the A class"
   ]
  }
 ],
 "metadata": {
  "kernelspec": {
   "display_name": "Python 3",
   "language": "python",
   "name": "python3"
  },
  "language_info": {
   "codemirror_mode": {
    "name": "ipython",
    "version": 3
   },
   "file_extension": ".py",
   "mimetype": "text/x-python",
   "name": "python",
   "nbconvert_exporter": "python",
   "pygments_lexer": "ipython3",
   "version": "3.6.4"
  }
 },
 "nbformat": 4,
 "nbformat_minor": 2
}
